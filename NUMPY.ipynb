{
 "cells": [
  {
   "cell_type": "markdown",
   "id": "9d2478dc",
   "metadata": {},
   "source": [
    "# #NEW PACKAGE IN CASE DATA IS IN ARRAY OR MATRIX#\n",
    "# #NUMPY ::::::::::::::::::::::::::::::::::::::::::::::::::::::::::::::::::::#\n",
    "                                          #NUMERICAL PYTHON#\n",
    "# ALL THE FUNCTIONS DERIEVED FROM THE MATLAB IN THE NUMPY "
   ]
  },
  {
   "cell_type": "code",
   "execution_count": 2,
   "id": "ad6aafb0",
   "metadata": {},
   "outputs": [],
   "source": [
    "import pandas as pd\n",
    "import numpy as np\n"
   ]
  },
  {
   "cell_type": "code",
   "execution_count": 3,
   "id": "a6ccc380",
   "metadata": {},
   "outputs": [],
   "source": [
    "# what is array \n",
    "# arrays are equivalent to the list\n",
    "# system understands everything as an array\n",
    "#used in ml ,dl etc.\n",
    "\n",
    "\n",
    "# what is matrix\n",
    "# used in ml ,dl etc.\n"
   ]
  },
  {
   "cell_type": "code",
   "execution_count": 4,
   "id": "187875e0",
   "metadata": {},
   "outputs": [],
   "source": [
    "l= [\"adviteeya\", 1,2,3,4]"
   ]
  },
  {
   "cell_type": "code",
   "execution_count": 5,
   "id": "f555d8a1",
   "metadata": {},
   "outputs": [
    {
     "data": {
      "text/plain": [
       "list"
      ]
     },
     "execution_count": 5,
     "metadata": {},
     "output_type": "execute_result"
    }
   ],
   "source": [
    "type(l)"
   ]
  },
  {
   "cell_type": "code",
   "execution_count": null,
   "id": "0b39f1a3",
   "metadata": {},
   "outputs": [],
   "source": [
    "# How to convert list into array"
   ]
  },
  {
   "cell_type": "code",
   "execution_count": 10,
   "id": "58f43b4c",
   "metadata": {},
   "outputs": [
    {
     "data": {
      "text/plain": [
       "array(['adviteeya', '1', '2', '3', '4'], dtype='<U11')"
      ]
     },
     "execution_count": 10,
     "metadata": {},
     "output_type": "execute_result"
    }
   ],
   "source": [
    "np.array(l)"
   ]
  },
  {
   "cell_type": "code",
   "execution_count": null,
   "id": "b0a3d969",
   "metadata": {},
   "outputs": [],
   "source": [
    "# When we the list in the array "
   ]
  },
  {
   "cell_type": "code",
   "execution_count": 11,
   "id": "3d95b93a",
   "metadata": {},
   "outputs": [],
   "source": [
    "l1= [\"advi\", 1,2,3,4]"
   ]
  },
  {
   "cell_type": "code",
   "execution_count": 12,
   "id": "f88bc68c",
   "metadata": {},
   "outputs": [
    {
     "data": {
      "text/plain": [
       "array(['advi', '1', '2', '3', '4'], dtype='<U11')"
      ]
     },
     "execution_count": 12,
     "metadata": {},
     "output_type": "execute_result"
    }
   ],
   "source": [
    "np.array(l1)"
   ]
  },
  {
   "cell_type": "code",
   "execution_count": 13,
   "id": "697b1722",
   "metadata": {},
   "outputs": [
    {
     "data": {
      "text/plain": [
       "numpy.ndarray"
      ]
     },
     "execution_count": 13,
     "metadata": {},
     "output_type": "execute_result"
    }
   ],
   "source": [
    "type(np.array(l1))"
   ]
  },
  {
   "cell_type": "code",
   "execution_count": null,
   "id": "996fe224",
   "metadata": {},
   "outputs": [],
   "source": [
    "# What is the meaning of nd array\n",
    "# n dimension "
   ]
  },
  {
   "cell_type": "code",
   "execution_count": 14,
   "id": "03a05361",
   "metadata": {},
   "outputs": [
    {
     "data": {
      "text/plain": [
       "array([3., 4., 5., 6., 7.])"
      ]
     },
     "execution_count": 14,
     "metadata": {},
     "output_type": "execute_result"
    }
   ],
   "source": [
    "np.array([3,4,5,6,7.0])"
   ]
  },
  {
   "cell_type": "code",
   "execution_count": null,
   "id": "f5f25ac6",
   "metadata": {},
   "outputs": [],
   "source": [
    "# It has converted all the integer into floating point.\n",
    "# By default it upcast to floating point"
   ]
  },
  {
   "cell_type": "code",
   "execution_count": 15,
   "id": "c8221fdc",
   "metadata": {},
   "outputs": [
    {
     "data": {
      "text/plain": [
       "array([[1, 2],\n",
       "       [3, 4]])"
      ]
     },
     "execution_count": 15,
     "metadata": {},
     "output_type": "execute_result"
    }
   ],
   "source": [
    "np.array([[1,2],[3,4]])"
   ]
  },
  {
   "cell_type": "code",
   "execution_count": null,
   "id": "f067aed3",
   "metadata": {},
   "outputs": [],
   "source": [
    "# It will create this type of array "
   ]
  },
  {
   "cell_type": "code",
   "execution_count": 16,
   "id": "a983b017",
   "metadata": {},
   "outputs": [
    {
     "data": {
      "text/plain": [
       "numpy.ndarray"
      ]
     },
     "execution_count": 16,
     "metadata": {},
     "output_type": "execute_result"
    }
   ],
   "source": [
    "type(np.array([[1,2],[3,4]]))"
   ]
  },
  {
   "cell_type": "code",
   "execution_count": 17,
   "id": "6e27002b",
   "metadata": {},
   "outputs": [],
   "source": [
    "a = np.array([[1,2],[3,4]])"
   ]
  },
  {
   "cell_type": "code",
   "execution_count": null,
   "id": "bcabe963",
   "metadata": {},
   "outputs": [],
   "source": [
    "# data is stored in a row and column\n",
    "#"
   ]
  },
  {
   "cell_type": "code",
   "execution_count": 18,
   "id": "7008a7d9",
   "metadata": {},
   "outputs": [
    {
     "data": {
      "text/plain": [
       "array([1, 2])"
      ]
     },
     "execution_count": 18,
     "metadata": {},
     "output_type": "execute_result"
    }
   ],
   "source": [
    "a[0]"
   ]
  },
  {
   "cell_type": "code",
   "execution_count": 19,
   "id": "9cbc12ac",
   "metadata": {},
   "outputs": [
    {
     "data": {
      "text/plain": [
       "array([3, 4])"
      ]
     },
     "execution_count": 19,
     "metadata": {},
     "output_type": "execute_result"
    }
   ],
   "source": [
    "a[1]"
   ]
  },
  {
   "cell_type": "code",
   "execution_count": 20,
   "id": "d0a71645",
   "metadata": {},
   "outputs": [
    {
     "data": {
      "text/plain": [
       "4"
      ]
     },
     "execution_count": 20,
     "metadata": {},
     "output_type": "execute_result"
    }
   ],
   "source": [
    "a[1][1]"
   ]
  },
  {
   "cell_type": "code",
   "execution_count": 21,
   "id": "208032f9",
   "metadata": {},
   "outputs": [
    {
     "data": {
      "text/plain": [
       "1"
      ]
     },
     "execution_count": 21,
     "metadata": {},
     "output_type": "execute_result"
    }
   ],
   "source": [
    "a[0][0]"
   ]
  },
  {
   "cell_type": "code",
   "execution_count": 22,
   "id": "277e6238",
   "metadata": {},
   "outputs": [
    {
     "data": {
      "text/plain": [
       "2"
      ]
     },
     "execution_count": 22,
     "metadata": {},
     "output_type": "execute_result"
    }
   ],
   "source": [
    "a[0][1]"
   ]
  },
  {
   "cell_type": "code",
   "execution_count": 23,
   "id": "1bf0aa77",
   "metadata": {},
   "outputs": [
    {
     "data": {
      "text/plain": [
       "3"
      ]
     },
     "execution_count": 23,
     "metadata": {},
     "output_type": "execute_result"
    }
   ],
   "source": [
    "a[1][0]"
   ]
  },
  {
   "cell_type": "code",
   "execution_count": 24,
   "id": "153125d7",
   "metadata": {},
   "outputs": [],
   "source": [
    "a1 = np.array([3,4,5,6,7.0])"
   ]
  },
  {
   "cell_type": "code",
   "execution_count": 25,
   "id": "9e82134b",
   "metadata": {},
   "outputs": [
    {
     "data": {
      "text/plain": [
       "3.0"
      ]
     },
     "execution_count": 25,
     "metadata": {},
     "output_type": "execute_result"
    }
   ],
   "source": [
    "a1[0]"
   ]
  },
  {
   "cell_type": "code",
   "execution_count": 26,
   "id": "9a9d04a7",
   "metadata": {},
   "outputs": [
    {
     "data": {
      "text/plain": [
       "5.0"
      ]
     },
     "execution_count": 26,
     "metadata": {},
     "output_type": "execute_result"
    }
   ],
   "source": [
    "a1[2]"
   ]
  },
  {
   "cell_type": "code",
   "execution_count": 27,
   "id": "d9ec911a",
   "metadata": {},
   "outputs": [
    {
     "data": {
      "text/plain": [
       "7.0"
      ]
     },
     "execution_count": 27,
     "metadata": {},
     "output_type": "execute_result"
    }
   ],
   "source": [
    "a1[4]"
   ]
  },
  {
   "cell_type": "code",
   "execution_count": 28,
   "id": "11e9d963",
   "metadata": {},
   "outputs": [
    {
     "data": {
      "text/plain": [
       "array([1, 2, 3, 4, 5])"
      ]
     },
     "execution_count": 28,
     "metadata": {},
     "output_type": "execute_result"
    }
   ],
   "source": [
    "np.array([1,2,3,4,5])"
   ]
  },
  {
   "cell_type": "code",
   "execution_count": null,
   "id": "dc136c7d",
   "metadata": {},
   "outputs": [],
   "source": [
    "#  There is one parameter call ndmin"
   ]
  },
  {
   "cell_type": "code",
   "execution_count": 29,
   "id": "fcf3ab61",
   "metadata": {},
   "outputs": [
    {
     "data": {
      "text/plain": [
       "array([1, 2, 3, 4, 5])"
      ]
     },
     "execution_count": 29,
     "metadata": {},
     "output_type": "execute_result"
    }
   ],
   "source": [
    "np.array([1,2,3,4,5], ndmin=0)"
   ]
  },
  {
   "cell_type": "code",
   "execution_count": 30,
   "id": "33f9d865",
   "metadata": {},
   "outputs": [
    {
     "data": {
      "text/plain": [
       "array([1, 2, 3, 4, 5])"
      ]
     },
     "execution_count": 30,
     "metadata": {},
     "output_type": "execute_result"
    }
   ],
   "source": [
    "np.array([1,2,3,4,5], ndmin=1)"
   ]
  },
  {
   "cell_type": "code",
   "execution_count": 31,
   "id": "6e3be034",
   "metadata": {},
   "outputs": [
    {
     "data": {
      "text/plain": [
       "array([[1, 2, 3, 4, 5]])"
      ]
     },
     "execution_count": 31,
     "metadata": {},
     "output_type": "execute_result"
    }
   ],
   "source": [
    "np.array([1,2,3,4,5], ndmin=2)"
   ]
  },
  {
   "cell_type": "code",
   "execution_count": 32,
   "id": "6aaac9a8",
   "metadata": {},
   "outputs": [
    {
     "data": {
      "text/plain": [
       "array([[[1, 2, 3, 4, 5]]])"
      ]
     },
     "execution_count": 32,
     "metadata": {},
     "output_type": "execute_result"
    }
   ],
   "source": [
    "np.array([1,2,3,4,5], ndmin=3)"
   ]
  },
  {
   "cell_type": "code",
   "execution_count": 33,
   "id": "42e4cdb2",
   "metadata": {},
   "outputs": [
    {
     "data": {
      "text/plain": [
       "array([[[[1, 2, 3, 4, 5]]]])"
      ]
     },
     "execution_count": 33,
     "metadata": {},
     "output_type": "execute_result"
    }
   ],
   "source": [
    "np.array([1,2,3,4,5], ndmin=4)"
   ]
  },
  {
   "cell_type": "code",
   "execution_count": null,
   "id": "8911870c",
   "metadata": {},
   "outputs": [],
   "source": [
    "# dimension is increasing with ndmin aray within an array \n",
    "#Extract 1"
   ]
  },
  {
   "cell_type": "code",
   "execution_count": 34,
   "id": "bdcbde87",
   "metadata": {},
   "outputs": [],
   "source": [
    "a2 = np.array([1,2,3,4,5], ndmin=4)"
   ]
  },
  {
   "cell_type": "code",
   "execution_count": null,
   "id": "91056178",
   "metadata": {},
   "outputs": [],
   "source": [
    "#Extract 1 from a2"
   ]
  },
  {
   "cell_type": "code",
   "execution_count": 35,
   "id": "9b098156",
   "metadata": {},
   "outputs": [
    {
     "data": {
      "text/plain": [
       "array([[[1, 2, 3, 4, 5]]])"
      ]
     },
     "execution_count": 35,
     "metadata": {},
     "output_type": "execute_result"
    }
   ],
   "source": [
    "a2[0]"
   ]
  },
  {
   "cell_type": "code",
   "execution_count": 36,
   "id": "222ccd63",
   "metadata": {},
   "outputs": [
    {
     "data": {
      "text/plain": [
       "array([[1, 2, 3, 4, 5]])"
      ]
     },
     "execution_count": 36,
     "metadata": {},
     "output_type": "execute_result"
    }
   ],
   "source": [
    "a2[0][0]"
   ]
  },
  {
   "cell_type": "code",
   "execution_count": 37,
   "id": "a66c5228",
   "metadata": {},
   "outputs": [
    {
     "data": {
      "text/plain": [
       "array([1, 2, 3, 4, 5])"
      ]
     },
     "execution_count": 37,
     "metadata": {},
     "output_type": "execute_result"
    }
   ],
   "source": [
    "a2[0][0][0]"
   ]
  },
  {
   "cell_type": "code",
   "execution_count": 38,
   "id": "59400b17",
   "metadata": {},
   "outputs": [
    {
     "data": {
      "text/plain": [
       "1"
      ]
     },
     "execution_count": 38,
     "metadata": {},
     "output_type": "execute_result"
    }
   ],
   "source": [
    "a2[0][0][0][0]"
   ]
  },
  {
   "cell_type": "code",
   "execution_count": 39,
   "id": "25fc2bf1",
   "metadata": {},
   "outputs": [
    {
     "data": {
      "text/plain": [
       "2"
      ]
     },
     "execution_count": 39,
     "metadata": {},
     "output_type": "execute_result"
    }
   ],
   "source": [
    "a2[0][0][0][1]"
   ]
  },
  {
   "cell_type": "code",
   "execution_count": 40,
   "id": "10f63285",
   "metadata": {},
   "outputs": [
    {
     "data": {
      "text/plain": [
       "3"
      ]
     },
     "execution_count": 40,
     "metadata": {},
     "output_type": "execute_result"
    }
   ],
   "source": [
    "a2[0][0][0][2]"
   ]
  },
  {
   "cell_type": "code",
   "execution_count": 41,
   "id": "ed33f444",
   "metadata": {},
   "outputs": [
    {
     "data": {
      "text/plain": [
       "4"
      ]
     },
     "execution_count": 41,
     "metadata": {},
     "output_type": "execute_result"
    }
   ],
   "source": [
    "a2[0][0][0][3]"
   ]
  },
  {
   "cell_type": "code",
   "execution_count": null,
   "id": "22aeee9e",
   "metadata": {},
   "outputs": [],
   "source": [
    "# How data is stored actually \n",
    "# Number of brackets denotes the number of array dimension "
   ]
  },
  {
   "cell_type": "code",
   "execution_count": 42,
   "id": "f7f79c4f",
   "metadata": {},
   "outputs": [
    {
     "data": {
      "text/plain": [
       "array([[1, 2],\n",
       "       [3, 4]])"
      ]
     },
     "execution_count": 42,
     "metadata": {},
     "output_type": "execute_result"
    }
   ],
   "source": [
    "a"
   ]
  },
  {
   "cell_type": "code",
   "execution_count": null,
   "id": "f80e267b",
   "metadata": {},
   "outputs": [],
   "source": [
    "# npasarray"
   ]
  },
  {
   "cell_type": "code",
   "execution_count": 43,
   "id": "3b73006e",
   "metadata": {},
   "outputs": [
    {
     "data": {
      "text/plain": [
       "array([1, 2, 3, 4, 5, 6])"
      ]
     },
     "execution_count": 43,
     "metadata": {},
     "output_type": "execute_result"
    }
   ],
   "source": [
    "np.asanyarray([1,2,3,4,5,6])"
   ]
  },
  {
   "cell_type": "code",
   "execution_count": 44,
   "id": "bfbe1704",
   "metadata": {},
   "outputs": [
    {
     "data": {
      "text/plain": [
       "array([1, 2, 3, 4, 5, 6])"
      ]
     },
     "execution_count": 44,
     "metadata": {},
     "output_type": "execute_result"
    }
   ],
   "source": [
    "np.asarray([1,2,3,4,5,6])"
   ]
  },
  {
   "cell_type": "code",
   "execution_count": 45,
   "id": "5c1176b8",
   "metadata": {},
   "outputs": [
    {
     "data": {
      "text/plain": [
       "array([1, 2, 3, 4, 5, 6])"
      ]
     },
     "execution_count": 45,
     "metadata": {},
     "output_type": "execute_result"
    }
   ],
   "source": [
    "np.array([1,2,3,4,5,6])"
   ]
  },
  {
   "cell_type": "code",
   "execution_count": null,
   "id": "298122e8",
   "metadata": {},
   "outputs": [],
   "source": [
    "####################################### MATRIX################################################\n",
    "# At minimum it is by default taking 2 dimension\n",
    "# It is a 2-D element\n"
   ]
  },
  {
   "cell_type": "code",
   "execution_count": 46,
   "id": "6a0519e7",
   "metadata": {},
   "outputs": [
    {
     "data": {
      "text/plain": [
       "matrix([[1, 2, 3, 4, 5, 6]])"
      ]
     },
     "execution_count": 46,
     "metadata": {},
     "output_type": "execute_result"
    }
   ],
   "source": [
    "np.mat([1,2,3,4,5,6])"
   ]
  },
  {
   "cell_type": "code",
   "execution_count": 47,
   "id": "dac51d79",
   "metadata": {},
   "outputs": [],
   "source": [
    "b = [1,2,3,4,5,6,7,8,9]"
   ]
  },
  {
   "cell_type": "code",
   "execution_count": 48,
   "id": "58009f71",
   "metadata": {},
   "outputs": [
    {
     "data": {
      "text/plain": [
       "array([1, 2, 3, 4, 5, 6, 7, 8, 9])"
      ]
     },
     "execution_count": 48,
     "metadata": {},
     "output_type": "execute_result"
    }
   ],
   "source": [
    "np.asarray(b)"
   ]
  },
  {
   "cell_type": "code",
   "execution_count": 49,
   "id": "881dc4c2",
   "metadata": {},
   "outputs": [
    {
     "data": {
      "text/plain": [
       "matrix([[1, 2, 3, 4, 5, 6, 7, 8, 9]])"
      ]
     },
     "execution_count": 49,
     "metadata": {},
     "output_type": "execute_result"
    }
   ],
   "source": [
    "np.mat(b)"
   ]
  },
  {
   "cell_type": "code",
   "execution_count": 50,
   "id": "07ec70f2",
   "metadata": {},
   "outputs": [
    {
     "data": {
      "text/plain": [
       "array([1, 2, 3, 4, 5, 6, 7, 8, 9])"
      ]
     },
     "execution_count": 50,
     "metadata": {},
     "output_type": "execute_result"
    }
   ],
   "source": [
    "np.asanyarray(b)"
   ]
  },
  {
   "cell_type": "code",
   "execution_count": 51,
   "id": "9460383a",
   "metadata": {},
   "outputs": [
    {
     "data": {
      "text/plain": [
       "matrix([[1, 2, 3, 4, 5, 6, 7, 8, 9]])"
      ]
     },
     "execution_count": 51,
     "metadata": {},
     "output_type": "execute_result"
    }
   ],
   "source": [
    "np.asanyarray(np.mat(b))\n",
    "# matrix is a child class of array\n",
    "# as any array return the format of the array\n",
    "# matrix is by default an array\n",
    "# if it is matrix it will not convert"
   ]
  },
  {
   "cell_type": "code",
   "execution_count": 52,
   "id": "0f0631ce",
   "metadata": {},
   "outputs": [
    {
     "data": {
      "text/plain": [
       "array([[ True, False, False],\n",
       "       [False,  True, False],\n",
       "       [False, False,  True]])"
      ]
     },
     "execution_count": 52,
     "metadata": {},
     "output_type": "execute_result"
    }
   ],
   "source": [
    "# from function returns the function responsible to generate any array\n",
    "# at any point of time it will be array and matrix\n",
    "# \n",
    "\n",
    "np.fromfunction(lambda i,j : i==j, (3,3))"
   ]
  },
  {
   "cell_type": "code",
   "execution_count": 53,
   "id": "5a3004cd",
   "metadata": {},
   "outputs": [
    {
     "data": {
      "text/plain": [
       "array([[ True, False, False, False],\n",
       "       [False,  True, False, False],\n",
       "       [False, False,  True, False],\n",
       "       [False, False, False,  True]])"
      ]
     },
     "execution_count": 53,
     "metadata": {},
     "output_type": "execute_result"
    }
   ],
   "source": [
    "\n",
    "np.fromfunction(lambda i,j : i==j, (4,4))"
   ]
  },
  {
   "cell_type": "code",
   "execution_count": 54,
   "id": "ee680eb0",
   "metadata": {},
   "outputs": [
    {
     "data": {
      "text/plain": [
       "array([[ True, False, False, False, False],\n",
       "       [False,  True, False, False, False],\n",
       "       [False, False,  True, False, False],\n",
       "       [False, False, False,  True, False],\n",
       "       [False, False, False, False,  True]])"
      ]
     },
     "execution_count": 54,
     "metadata": {},
     "output_type": "execute_result"
    }
   ],
   "source": [
    "\n",
    "np.fromfunction(lambda i,j : i==j, (5,5))"
   ]
  },
  {
   "cell_type": "code",
   "execution_count": 55,
   "id": "103b9412",
   "metadata": {},
   "outputs": [
    {
     "data": {
      "text/plain": [
       "array([[False,  True,  True,  True,  True],\n",
       "       [ True, False,  True,  True,  True],\n",
       "       [ True,  True, False,  True,  True],\n",
       "       [ True,  True,  True, False,  True],\n",
       "       [ True,  True,  True,  True, False]])"
      ]
     },
     "execution_count": 55,
     "metadata": {},
     "output_type": "execute_result"
    }
   ],
   "source": [
    "np.fromfunction(lambda i,j : i!=j, (5,5))"
   ]
  },
  {
   "cell_type": "code",
   "execution_count": null,
   "id": "97e0cc89",
   "metadata": {},
   "outputs": [],
   "source": [
    "# Use of comparison operator"
   ]
  },
  {
   "cell_type": "code",
   "execution_count": 56,
   "id": "404a2180",
   "metadata": {},
   "outputs": [
    {
     "data": {
      "text/plain": [
       "array([[ 0.,  0.,  0.,  0.,  0.],\n",
       "       [ 0.,  1.,  2.,  3.,  4.],\n",
       "       [ 0.,  2.,  4.,  6.,  8.],\n",
       "       [ 0.,  3.,  6.,  9., 12.],\n",
       "       [ 0.,  4.,  8., 12., 16.]])"
      ]
     },
     "execution_count": 56,
     "metadata": {},
     "output_type": "execute_result"
    }
   ],
   "source": [
    "np.fromfunction(lambda i,j : i*j, (5,5))"
   ]
  },
  {
   "cell_type": "code",
   "execution_count": 57,
   "id": "1aea83e6",
   "metadata": {},
   "outputs": [
    {
     "data": {
      "text/plain": [
       "array([[ 0,  0,  0,  0,  0],\n",
       "       [ 0,  1,  2,  3,  4],\n",
       "       [ 0,  2,  4,  6,  8],\n",
       "       [ 0,  3,  6,  9, 12],\n",
       "       [ 0,  4,  8, 12, 16]])"
      ]
     },
     "execution_count": 57,
     "metadata": {},
     "output_type": "execute_result"
    }
   ],
   "source": [
    "np.fromfunction(lambda i,j : i*j, (5,5), dtype= int)"
   ]
  },
  {
   "cell_type": "code",
   "execution_count": 58,
   "id": "3878e1a0",
   "metadata": {},
   "outputs": [
    {
     "data": {
      "text/plain": [
       "matrix([[ 0,  0,  0,  0,  0],\n",
       "        [ 0,  1,  2,  3,  4],\n",
       "        [ 0,  2,  4,  6,  8],\n",
       "        [ 0,  3,  6,  9, 12],\n",
       "        [ 0,  4,  8, 12, 16]])"
      ]
     },
     "execution_count": 58,
     "metadata": {},
     "output_type": "execute_result"
    }
   ],
   "source": [
    "np.mat(np.fromfunction(lambda i,j : i*j, (5,5), dtype= int))"
   ]
  },
  {
   "cell_type": "code",
   "execution_count": 59,
   "id": "5e07ece5",
   "metadata": {},
   "outputs": [
    {
     "data": {
      "text/plain": [
       "array([[[ 0,  0,  0,  0,  0],\n",
       "        [ 0,  0,  0,  0,  0],\n",
       "        [ 0,  0,  0,  0,  0],\n",
       "        [ 0,  0,  0,  0,  0],\n",
       "        [ 0,  0,  0,  0,  0]],\n",
       "\n",
       "       [[ 0,  0,  0,  0,  0],\n",
       "        [ 0,  1,  2,  3,  4],\n",
       "        [ 0,  2,  4,  6,  8],\n",
       "        [ 0,  3,  6,  9, 12],\n",
       "        [ 0,  4,  8, 12, 16]],\n",
       "\n",
       "       [[ 0,  0,  0,  0,  0],\n",
       "        [ 0,  2,  4,  6,  8],\n",
       "        [ 0,  4,  8, 12, 16],\n",
       "        [ 0,  6, 12, 18, 24],\n",
       "        [ 0,  8, 16, 24, 32]],\n",
       "\n",
       "       [[ 0,  0,  0,  0,  0],\n",
       "        [ 0,  3,  6,  9, 12],\n",
       "        [ 0,  6, 12, 18, 24],\n",
       "        [ 0,  9, 18, 27, 36],\n",
       "        [ 0, 12, 24, 36, 48]],\n",
       "\n",
       "       [[ 0,  0,  0,  0,  0],\n",
       "        [ 0,  4,  8, 12, 16],\n",
       "        [ 0,  8, 16, 24, 32],\n",
       "        [ 0, 12, 24, 36, 48],\n",
       "        [ 0, 16, 32, 48, 64]]])"
      ]
     },
     "execution_count": 59,
     "metadata": {},
     "output_type": "execute_result"
    }
   ],
   "source": [
    "np.fromfunction(lambda i,j,k : i*j*k, (5,5,5), dtype= int)"
   ]
  },
  {
   "cell_type": "code",
   "execution_count": 60,
   "id": "80a5a735",
   "metadata": {},
   "outputs": [
    {
     "data": {
      "text/plain": [
       "array([[[ 0,  0,  0,  0],\n",
       "        [ 0,  0,  0,  0],\n",
       "        [ 0,  0,  0,  0],\n",
       "        [ 0,  0,  0,  0],\n",
       "        [ 0,  0,  0,  0]],\n",
       "\n",
       "       [[ 0,  0,  0,  0],\n",
       "        [ 0,  1,  2,  3],\n",
       "        [ 0,  2,  4,  6],\n",
       "        [ 0,  3,  6,  9],\n",
       "        [ 0,  4,  8, 12]],\n",
       "\n",
       "       [[ 0,  0,  0,  0],\n",
       "        [ 0,  2,  4,  6],\n",
       "        [ 0,  4,  8, 12],\n",
       "        [ 0,  6, 12, 18],\n",
       "        [ 0,  8, 16, 24]],\n",
       "\n",
       "       [[ 0,  0,  0,  0],\n",
       "        [ 0,  3,  6,  9],\n",
       "        [ 0,  6, 12, 18],\n",
       "        [ 0,  9, 18, 27],\n",
       "        [ 0, 12, 24, 36]],\n",
       "\n",
       "       [[ 0,  0,  0,  0],\n",
       "        [ 0,  4,  8, 12],\n",
       "        [ 0,  8, 16, 24],\n",
       "        [ 0, 12, 24, 36],\n",
       "        [ 0, 16, 32, 48]]])"
      ]
     },
     "execution_count": 60,
     "metadata": {},
     "output_type": "execute_result"
    }
   ],
   "source": [
    "np.fromfunction(lambda i,j,k : i*j*k, (5,5,4), dtype= int)"
   ]
  },
  {
   "cell_type": "code",
   "execution_count": 61,
   "id": "13a32698",
   "metadata": {},
   "outputs": [
    {
     "data": {
      "text/plain": [
       "array([[[ 0,  0,  0],\n",
       "        [ 0,  0,  0],\n",
       "        [ 0,  0,  0],\n",
       "        [ 0,  0,  0],\n",
       "        [ 0,  0,  0]],\n",
       "\n",
       "       [[ 0,  0,  0],\n",
       "        [ 0,  1,  2],\n",
       "        [ 0,  2,  4],\n",
       "        [ 0,  3,  6],\n",
       "        [ 0,  4,  8]],\n",
       "\n",
       "       [[ 0,  0,  0],\n",
       "        [ 0,  2,  4],\n",
       "        [ 0,  4,  8],\n",
       "        [ 0,  6, 12],\n",
       "        [ 0,  8, 16]],\n",
       "\n",
       "       [[ 0,  0,  0],\n",
       "        [ 0,  3,  6],\n",
       "        [ 0,  6, 12],\n",
       "        [ 0,  9, 18],\n",
       "        [ 0, 12, 24]],\n",
       "\n",
       "       [[ 0,  0,  0],\n",
       "        [ 0,  4,  8],\n",
       "        [ 0,  8, 16],\n",
       "        [ 0, 12, 24],\n",
       "        [ 0, 16, 32]]])"
      ]
     },
     "execution_count": 61,
     "metadata": {},
     "output_type": "execute_result"
    }
   ],
   "source": [
    "np.fromfunction(lambda i,j,k : i*j*k, (5,5,3), dtype= int)"
   ]
  },
  {
   "cell_type": "code",
   "execution_count": 62,
   "id": "6eb61110",
   "metadata": {},
   "outputs": [
    {
     "data": {
      "text/plain": [
       "array([[[ 0,  0],\n",
       "        [ 0,  0],\n",
       "        [ 0,  0],\n",
       "        [ 0,  0],\n",
       "        [ 0,  0]],\n",
       "\n",
       "       [[ 0,  0],\n",
       "        [ 0,  1],\n",
       "        [ 0,  2],\n",
       "        [ 0,  3],\n",
       "        [ 0,  4]],\n",
       "\n",
       "       [[ 0,  0],\n",
       "        [ 0,  2],\n",
       "        [ 0,  4],\n",
       "        [ 0,  6],\n",
       "        [ 0,  8]],\n",
       "\n",
       "       [[ 0,  0],\n",
       "        [ 0,  3],\n",
       "        [ 0,  6],\n",
       "        [ 0,  9],\n",
       "        [ 0, 12]],\n",
       "\n",
       "       [[ 0,  0],\n",
       "        [ 0,  4],\n",
       "        [ 0,  8],\n",
       "        [ 0, 12],\n",
       "        [ 0, 16]]])"
      ]
     },
     "execution_count": 62,
     "metadata": {},
     "output_type": "execute_result"
    }
   ],
   "source": [
    "np.fromfunction(lambda i,j,k : i*j*k, (5,5,2), dtype= int)"
   ]
  },
  {
   "cell_type": "code",
   "execution_count": 63,
   "id": "949eab1a",
   "metadata": {},
   "outputs": [
    {
     "data": {
      "text/plain": [
       "array([[[ 0,  0,  0,  0,  0],\n",
       "        [ 0,  0,  0,  0,  0],\n",
       "        [ 0,  0,  0,  0,  0],\n",
       "        [ 0,  0,  0,  0,  0]],\n",
       "\n",
       "       [[ 0,  0,  0,  0,  0],\n",
       "        [ 0,  1,  2,  3,  4],\n",
       "        [ 0,  2,  4,  6,  8],\n",
       "        [ 0,  3,  6,  9, 12]],\n",
       "\n",
       "       [[ 0,  0,  0,  0,  0],\n",
       "        [ 0,  2,  4,  6,  8],\n",
       "        [ 0,  4,  8, 12, 16],\n",
       "        [ 0,  6, 12, 18, 24]],\n",
       "\n",
       "       [[ 0,  0,  0,  0,  0],\n",
       "        [ 0,  3,  6,  9, 12],\n",
       "        [ 0,  6, 12, 18, 24],\n",
       "        [ 0,  9, 18, 27, 36]],\n",
       "\n",
       "       [[ 0,  0,  0,  0,  0],\n",
       "        [ 0,  4,  8, 12, 16],\n",
       "        [ 0,  8, 16, 24, 32],\n",
       "        [ 0, 12, 24, 36, 48]]])"
      ]
     },
     "execution_count": 63,
     "metadata": {},
     "output_type": "execute_result"
    }
   ],
   "source": [
    "np.fromfunction(lambda i,j,k : i*j*k, (5,4,5), dtype= int)"
   ]
  },
  {
   "cell_type": "code",
   "execution_count": 64,
   "id": "4137eb12",
   "metadata": {},
   "outputs": [
    {
     "data": {
      "text/plain": [
       "array([[[ 0,  0,  0,  0,  0],\n",
       "        [ 0,  0,  0,  0,  0],\n",
       "        [ 0,  0,  0,  0,  0]],\n",
       "\n",
       "       [[ 0,  0,  0,  0,  0],\n",
       "        [ 0,  1,  2,  3,  4],\n",
       "        [ 0,  2,  4,  6,  8]],\n",
       "\n",
       "       [[ 0,  0,  0,  0,  0],\n",
       "        [ 0,  2,  4,  6,  8],\n",
       "        [ 0,  4,  8, 12, 16]],\n",
       "\n",
       "       [[ 0,  0,  0,  0,  0],\n",
       "        [ 0,  3,  6,  9, 12],\n",
       "        [ 0,  6, 12, 18, 24]],\n",
       "\n",
       "       [[ 0,  0,  0,  0,  0],\n",
       "        [ 0,  4,  8, 12, 16],\n",
       "        [ 0,  8, 16, 24, 32]]])"
      ]
     },
     "execution_count": 64,
     "metadata": {},
     "output_type": "execute_result"
    }
   ],
   "source": [
    "np.fromfunction(lambda i,j,k : i*j*k, (5,3,5), dtype= int)"
   ]
  },
  {
   "cell_type": "code",
   "execution_count": 65,
   "id": "0bcb5ce6",
   "metadata": {},
   "outputs": [
    {
     "data": {
      "text/plain": [
       "array([[[ 0,  0,  0,  0,  0],\n",
       "        [ 0,  0,  0,  0,  0]],\n",
       "\n",
       "       [[ 0,  0,  0,  0,  0],\n",
       "        [ 0,  1,  2,  3,  4]],\n",
       "\n",
       "       [[ 0,  0,  0,  0,  0],\n",
       "        [ 0,  2,  4,  6,  8]],\n",
       "\n",
       "       [[ 0,  0,  0,  0,  0],\n",
       "        [ 0,  3,  6,  9, 12]],\n",
       "\n",
       "       [[ 0,  0,  0,  0,  0],\n",
       "        [ 0,  4,  8, 12, 16]]])"
      ]
     },
     "execution_count": 65,
     "metadata": {},
     "output_type": "execute_result"
    }
   ],
   "source": [
    "np.fromfunction(lambda i,j,k : i*j*k, (5,2,5), dtype= int)"
   ]
  },
  {
   "cell_type": "code",
   "execution_count": 66,
   "id": "f005c639",
   "metadata": {},
   "outputs": [
    {
     "data": {
      "text/plain": [
       "array([[[ 0,  0,  0,  0,  0],\n",
       "        [ 0,  0,  0,  0,  0],\n",
       "        [ 0,  0,  0,  0,  0],\n",
       "        [ 0,  0,  0,  0,  0],\n",
       "        [ 0,  0,  0,  0,  0]],\n",
       "\n",
       "       [[ 0,  0,  0,  0,  0],\n",
       "        [ 0,  1,  2,  3,  4],\n",
       "        [ 0,  2,  4,  6,  8],\n",
       "        [ 0,  3,  6,  9, 12],\n",
       "        [ 0,  4,  8, 12, 16]],\n",
       "\n",
       "       [[ 0,  0,  0,  0,  0],\n",
       "        [ 0,  2,  4,  6,  8],\n",
       "        [ 0,  4,  8, 12, 16],\n",
       "        [ 0,  6, 12, 18, 24],\n",
       "        [ 0,  8, 16, 24, 32]],\n",
       "\n",
       "       [[ 0,  0,  0,  0,  0],\n",
       "        [ 0,  3,  6,  9, 12],\n",
       "        [ 0,  6, 12, 18, 24],\n",
       "        [ 0,  9, 18, 27, 36],\n",
       "        [ 0, 12, 24, 36, 48]]])"
      ]
     },
     "execution_count": 66,
     "metadata": {},
     "output_type": "execute_result"
    }
   ],
   "source": [
    "np.fromfunction(lambda i,j,k : i*j*k, (4,5,5), dtype= int)"
   ]
  },
  {
   "cell_type": "code",
   "execution_count": 67,
   "id": "a51b2aba",
   "metadata": {},
   "outputs": [
    {
     "data": {
      "text/plain": [
       "array([[[ 0,  0,  0,  0,  0],\n",
       "        [ 0,  0,  0,  0,  0],\n",
       "        [ 0,  0,  0,  0,  0],\n",
       "        [ 0,  0,  0,  0,  0],\n",
       "        [ 0,  0,  0,  0,  0]],\n",
       "\n",
       "       [[ 0,  0,  0,  0,  0],\n",
       "        [ 0,  1,  2,  3,  4],\n",
       "        [ 0,  2,  4,  6,  8],\n",
       "        [ 0,  3,  6,  9, 12],\n",
       "        [ 0,  4,  8, 12, 16]],\n",
       "\n",
       "       [[ 0,  0,  0,  0,  0],\n",
       "        [ 0,  2,  4,  6,  8],\n",
       "        [ 0,  4,  8, 12, 16],\n",
       "        [ 0,  6, 12, 18, 24],\n",
       "        [ 0,  8, 16, 24, 32]]])"
      ]
     },
     "execution_count": 67,
     "metadata": {},
     "output_type": "execute_result"
    }
   ],
   "source": [
    "np.fromfunction(lambda i,j,k : i*j*k, (3,5,5), dtype= int)"
   ]
  },
  {
   "cell_type": "code",
   "execution_count": 68,
   "id": "fa3cb6e9",
   "metadata": {},
   "outputs": [
    {
     "data": {
      "text/plain": [
       "array([[[ 0,  0,  0,  0,  0],\n",
       "        [ 0,  0,  0,  0,  0],\n",
       "        [ 0,  0,  0,  0,  0],\n",
       "        [ 0,  0,  0,  0,  0],\n",
       "        [ 0,  0,  0,  0,  0]],\n",
       "\n",
       "       [[ 0,  0,  0,  0,  0],\n",
       "        [ 0,  1,  2,  3,  4],\n",
       "        [ 0,  2,  4,  6,  8],\n",
       "        [ 0,  3,  6,  9, 12],\n",
       "        [ 0,  4,  8, 12, 16]]])"
      ]
     },
     "execution_count": 68,
     "metadata": {},
     "output_type": "execute_result"
    }
   ],
   "source": [
    "np.fromfunction(lambda i,j,k : i*j*k, (2,5,5), dtype= int)"
   ]
  },
  {
   "cell_type": "code",
   "execution_count": 69,
   "id": "5d2cc437",
   "metadata": {},
   "outputs": [
    {
     "data": {
      "text/plain": [
       "array([[[0, 0, 0, 0, 0],\n",
       "        [0, 0, 0, 0, 0],\n",
       "        [0, 0, 0, 0, 0],\n",
       "        [0, 0, 0, 0, 0],\n",
       "        [0, 0, 0, 0, 0]]])"
      ]
     },
     "execution_count": 69,
     "metadata": {},
     "output_type": "execute_result"
    }
   ],
   "source": [
    "np.fromfunction(lambda i,j,k : i*j*k, (1,5,5), dtype= int)"
   ]
  },
  {
   "cell_type": "code",
   "execution_count": 70,
   "id": "ecad6a7f",
   "metadata": {},
   "outputs": [
    {
     "data": {
      "text/plain": [
       "array([[[[0, 0, 0, 0, 0],\n",
       "         [0, 0, 0, 0, 0],\n",
       "         [0, 0, 0, 0, 0],\n",
       "         [0, 0, 0, 0, 0],\n",
       "         [0, 0, 0, 0, 0]]],\n",
       "\n",
       "\n",
       "       [[[0, 0, 0, 0, 0],\n",
       "         [0, 0, 0, 0, 0],\n",
       "         [0, 0, 0, 0, 0],\n",
       "         [0, 0, 0, 0, 0],\n",
       "         [0, 0, 0, 0, 0]]]])"
      ]
     },
     "execution_count": 70,
     "metadata": {},
     "output_type": "execute_result"
    }
   ],
   "source": [
    "np.fromfunction(lambda i,j,k,l : i*j*k*l, (2,1,5,5), dtype= int)"
   ]
  },
  {
   "cell_type": "code",
   "execution_count": 72,
   "id": "47a14641",
   "metadata": {},
   "outputs": [
    {
     "data": {
      "text/plain": [
       "array([[[[0, 1, 2, 3, 4],\n",
       "         [1, 2, 3, 4, 5],\n",
       "         [2, 3, 4, 5, 6],\n",
       "         [3, 4, 5, 6, 7],\n",
       "         [4, 5, 6, 7, 8]]],\n",
       "\n",
       "\n",
       "       [[[1, 2, 3, 4, 5],\n",
       "         [2, 3, 4, 5, 6],\n",
       "         [3, 4, 5, 6, 7],\n",
       "         [4, 5, 6, 7, 8],\n",
       "         [5, 6, 7, 8, 9]]]])"
      ]
     },
     "execution_count": 72,
     "metadata": {},
     "output_type": "execute_result"
    }
   ],
   "source": [
    "np.fromfunction(lambda i,j,k,l : i+j+k+l, (2,1,5,5), dtype= int)"
   ]
  },
  {
   "cell_type": "code",
   "execution_count": 74,
   "id": "4b386fb0",
   "metadata": {},
   "outputs": [
    {
     "data": {
      "text/plain": [
       "array([[[[[ 0,  1,  2,  3,  4],\n",
       "          [ 1,  2,  3,  4,  5],\n",
       "          [ 2,  3,  4,  5,  6],\n",
       "          [ 3,  4,  5,  6,  7],\n",
       "          [ 4,  5,  6,  7,  8]]],\n",
       "\n",
       "\n",
       "        [[[ 1,  2,  3,  4,  5],\n",
       "          [ 2,  3,  4,  5,  6],\n",
       "          [ 3,  4,  5,  6,  7],\n",
       "          [ 4,  5,  6,  7,  8],\n",
       "          [ 5,  6,  7,  8,  9]]]],\n",
       "\n",
       "\n",
       "\n",
       "       [[[[ 1,  2,  3,  4,  5],\n",
       "          [ 2,  3,  4,  5,  6],\n",
       "          [ 3,  4,  5,  6,  7],\n",
       "          [ 4,  5,  6,  7,  8],\n",
       "          [ 5,  6,  7,  8,  9]]],\n",
       "\n",
       "\n",
       "        [[[ 2,  3,  4,  5,  6],\n",
       "          [ 3,  4,  5,  6,  7],\n",
       "          [ 4,  5,  6,  7,  8],\n",
       "          [ 5,  6,  7,  8,  9],\n",
       "          [ 6,  7,  8,  9, 10]]]]])"
      ]
     },
     "execution_count": 74,
     "metadata": {},
     "output_type": "execute_result"
    }
   ],
   "source": [
    "np.fromfunction(lambda i,j,k,l,m : i+j+k+l+m, (2,2,1,5,5), dtype= int)"
   ]
  },
  {
   "cell_type": "code",
   "execution_count": 79,
   "id": "a9ec74da",
   "metadata": {},
   "outputs": [
    {
     "data": {
      "text/plain": [
       "array([[[[[0, 1],\n",
       "          [1, 2]]],\n",
       "\n",
       "\n",
       "        [[[1, 2],\n",
       "          [2, 3]]]],\n",
       "\n",
       "\n",
       "\n",
       "       [[[[1, 2],\n",
       "          [2, 3]]],\n",
       "\n",
       "\n",
       "        [[[2, 3],\n",
       "          [3, 4]]]]])"
      ]
     },
     "execution_count": 79,
     "metadata": {},
     "output_type": "execute_result"
    }
   ],
   "source": [
    "np.fromfunction(lambda i,j,k,l,m : i+j+k+l+m, (2,2,1,2,2), dtype= int)"
   ]
  },
  {
   "cell_type": "code",
   "execution_count": 83,
   "id": "cfa4e5e1",
   "metadata": {},
   "outputs": [],
   "source": [
    "c=np.fromfunction(lambda i,j,k : i*j*k, (4,3,2), dtype= int)"
   ]
  },
  {
   "cell_type": "code",
   "execution_count": 84,
   "id": "704898d5",
   "metadata": {},
   "outputs": [
    {
     "data": {
      "text/plain": [
       "3"
      ]
     },
     "execution_count": 84,
     "metadata": {},
     "output_type": "execute_result"
    }
   ],
   "source": [
    "c.ndim\n",
    "# number of dimension "
   ]
  },
  {
   "cell_type": "code",
   "execution_count": 85,
   "id": "24219e13",
   "metadata": {},
   "outputs": [
    {
     "data": {
      "text/plain": [
       "24"
      ]
     },
     "execution_count": 85,
     "metadata": {},
     "output_type": "execute_result"
    }
   ],
   "source": [
    "c.size\n",
    "# number of elements"
   ]
  },
  {
   "cell_type": "code",
   "execution_count": 87,
   "id": "c603a714",
   "metadata": {},
   "outputs": [
    {
     "data": {
      "text/plain": [
       "(4, 3, 2)"
      ]
     },
     "execution_count": 87,
     "metadata": {},
     "output_type": "execute_result"
    }
   ],
   "source": [
    "c.shape\n"
   ]
  },
  {
   "cell_type": "code",
   "execution_count": 88,
   "id": "8ad1bb57",
   "metadata": {},
   "outputs": [
    {
     "data": {
      "text/plain": [
       "dtype('int32')"
      ]
     },
     "execution_count": 88,
     "metadata": {},
     "output_type": "execute_result"
    }
   ],
   "source": [
    "c.dtype"
   ]
  },
  {
   "cell_type": "code",
   "execution_count": null,
   "id": "ff8fd5ac",
   "metadata": {},
   "outputs": [],
   "source": [
    "# Try to prepare a dataframe where you have to create a 100 to 1000 or 100000 number of records."
   ]
  },
  {
   "cell_type": "code",
   "execution_count": null,
   "id": "e684d668",
   "metadata": {},
   "outputs": [],
   "source": [
    "# conver c into a dataframe \n",
    "# data frame is a 2-D matrix"
   ]
  },
  {
   "cell_type": "code",
   "execution_count": 89,
   "id": "f9861a1c",
   "metadata": {},
   "outputs": [
    {
     "data": {
      "text/plain": [
       "array([[[0, 0],\n",
       "        [0, 0],\n",
       "        [0, 0]],\n",
       "\n",
       "       [[0, 0],\n",
       "        [0, 1],\n",
       "        [0, 2]],\n",
       "\n",
       "       [[0, 0],\n",
       "        [0, 2],\n",
       "        [0, 4]],\n",
       "\n",
       "       [[0, 0],\n",
       "        [0, 3],\n",
       "        [0, 6]]])"
      ]
     },
     "execution_count": 89,
     "metadata": {},
     "output_type": "execute_result"
    }
   ],
   "source": [
    "c"
   ]
  },
  {
   "cell_type": "code",
   "execution_count": 90,
   "id": "4227cbba",
   "metadata": {},
   "outputs": [
    {
     "ename": "ValueError",
     "evalue": "Must pass 2-d input. shape=(4, 3, 2)",
     "output_type": "error",
     "traceback": [
      "\u001b[1;31m---------------------------------------------------------------------------\u001b[0m",
      "\u001b[1;31mValueError\u001b[0m                                Traceback (most recent call last)",
      "\u001b[1;32m<ipython-input-90-72c9a7f1add5>\u001b[0m in \u001b[0;36m<module>\u001b[1;34m\u001b[0m\n\u001b[1;32m----> 1\u001b[1;33m \u001b[0mpd\u001b[0m\u001b[1;33m.\u001b[0m\u001b[0mDataFrame\u001b[0m\u001b[1;33m(\u001b[0m\u001b[0mc\u001b[0m\u001b[1;33m)\u001b[0m\u001b[1;33m\u001b[0m\u001b[1;33m\u001b[0m\u001b[0m\n\u001b[0m",
      "\u001b[1;32m~\\anaconda3\\lib\\site-packages\\pandas\\core\\frame.py\u001b[0m in \u001b[0;36m__init__\u001b[1;34m(self, data, index, columns, dtype, copy)\u001b[0m\n\u001b[0;32m    556\u001b[0m                 \u001b[0mmgr\u001b[0m \u001b[1;33m=\u001b[0m \u001b[0minit_dict\u001b[0m\u001b[1;33m(\u001b[0m\u001b[1;33m{\u001b[0m\u001b[0mdata\u001b[0m\u001b[1;33m.\u001b[0m\u001b[0mname\u001b[0m\u001b[1;33m:\u001b[0m \u001b[0mdata\u001b[0m\u001b[1;33m}\u001b[0m\u001b[1;33m,\u001b[0m \u001b[0mindex\u001b[0m\u001b[1;33m,\u001b[0m \u001b[0mcolumns\u001b[0m\u001b[1;33m,\u001b[0m \u001b[0mdtype\u001b[0m\u001b[1;33m=\u001b[0m\u001b[0mdtype\u001b[0m\u001b[1;33m)\u001b[0m\u001b[1;33m\u001b[0m\u001b[1;33m\u001b[0m\u001b[0m\n\u001b[0;32m    557\u001b[0m             \u001b[1;32melse\u001b[0m\u001b[1;33m:\u001b[0m\u001b[1;33m\u001b[0m\u001b[1;33m\u001b[0m\u001b[0m\n\u001b[1;32m--> 558\u001b[1;33m                 \u001b[0mmgr\u001b[0m \u001b[1;33m=\u001b[0m \u001b[0minit_ndarray\u001b[0m\u001b[1;33m(\u001b[0m\u001b[0mdata\u001b[0m\u001b[1;33m,\u001b[0m \u001b[0mindex\u001b[0m\u001b[1;33m,\u001b[0m \u001b[0mcolumns\u001b[0m\u001b[1;33m,\u001b[0m \u001b[0mdtype\u001b[0m\u001b[1;33m=\u001b[0m\u001b[0mdtype\u001b[0m\u001b[1;33m,\u001b[0m \u001b[0mcopy\u001b[0m\u001b[1;33m=\u001b[0m\u001b[0mcopy\u001b[0m\u001b[1;33m)\u001b[0m\u001b[1;33m\u001b[0m\u001b[1;33m\u001b[0m\u001b[0m\n\u001b[0m\u001b[0;32m    559\u001b[0m \u001b[1;33m\u001b[0m\u001b[0m\n\u001b[0;32m    560\u001b[0m         \u001b[1;31m# For data is list-like, or Iterable (will consume into list)\u001b[0m\u001b[1;33m\u001b[0m\u001b[1;33m\u001b[0m\u001b[1;33m\u001b[0m\u001b[0m\n",
      "\u001b[1;32m~\\anaconda3\\lib\\site-packages\\pandas\\core\\internals\\construction.py\u001b[0m in \u001b[0;36minit_ndarray\u001b[1;34m(values, index, columns, dtype, copy)\u001b[0m\n\u001b[0;32m    190\u001b[0m     \u001b[1;31m# by definition an array here\u001b[0m\u001b[1;33m\u001b[0m\u001b[1;33m\u001b[0m\u001b[1;33m\u001b[0m\u001b[0m\n\u001b[0;32m    191\u001b[0m     \u001b[1;31m# the dtypes will be coerced to a single dtype\u001b[0m\u001b[1;33m\u001b[0m\u001b[1;33m\u001b[0m\u001b[1;33m\u001b[0m\u001b[0m\n\u001b[1;32m--> 192\u001b[1;33m     \u001b[0mvalues\u001b[0m \u001b[1;33m=\u001b[0m \u001b[0m_prep_ndarray\u001b[0m\u001b[1;33m(\u001b[0m\u001b[0mvalues\u001b[0m\u001b[1;33m,\u001b[0m \u001b[0mcopy\u001b[0m\u001b[1;33m=\u001b[0m\u001b[0mcopy\u001b[0m\u001b[1;33m)\u001b[0m\u001b[1;33m\u001b[0m\u001b[1;33m\u001b[0m\u001b[0m\n\u001b[0m\u001b[0;32m    193\u001b[0m \u001b[1;33m\u001b[0m\u001b[0m\n\u001b[0;32m    194\u001b[0m     \u001b[1;32mif\u001b[0m \u001b[0mdtype\u001b[0m \u001b[1;32mis\u001b[0m \u001b[1;32mnot\u001b[0m \u001b[1;32mNone\u001b[0m \u001b[1;32mand\u001b[0m \u001b[1;32mnot\u001b[0m \u001b[0mis_dtype_equal\u001b[0m\u001b[1;33m(\u001b[0m\u001b[0mvalues\u001b[0m\u001b[1;33m.\u001b[0m\u001b[0mdtype\u001b[0m\u001b[1;33m,\u001b[0m \u001b[0mdtype\u001b[0m\u001b[1;33m)\u001b[0m\u001b[1;33m:\u001b[0m\u001b[1;33m\u001b[0m\u001b[1;33m\u001b[0m\u001b[0m\n",
      "\u001b[1;32m~\\anaconda3\\lib\\site-packages\\pandas\\core\\internals\\construction.py\u001b[0m in \u001b[0;36m_prep_ndarray\u001b[1;34m(values, copy)\u001b[0m\n\u001b[0;32m    326\u001b[0m         \u001b[0mvalues\u001b[0m \u001b[1;33m=\u001b[0m \u001b[0mvalues\u001b[0m\u001b[1;33m.\u001b[0m\u001b[0mreshape\u001b[0m\u001b[1;33m(\u001b[0m\u001b[1;33m(\u001b[0m\u001b[0mvalues\u001b[0m\u001b[1;33m.\u001b[0m\u001b[0mshape\u001b[0m\u001b[1;33m[\u001b[0m\u001b[1;36m0\u001b[0m\u001b[1;33m]\u001b[0m\u001b[1;33m,\u001b[0m \u001b[1;36m1\u001b[0m\u001b[1;33m)\u001b[0m\u001b[1;33m)\u001b[0m\u001b[1;33m\u001b[0m\u001b[1;33m\u001b[0m\u001b[0m\n\u001b[0;32m    327\u001b[0m     \u001b[1;32melif\u001b[0m \u001b[0mvalues\u001b[0m\u001b[1;33m.\u001b[0m\u001b[0mndim\u001b[0m \u001b[1;33m!=\u001b[0m \u001b[1;36m2\u001b[0m\u001b[1;33m:\u001b[0m\u001b[1;33m\u001b[0m\u001b[1;33m\u001b[0m\u001b[0m\n\u001b[1;32m--> 328\u001b[1;33m         \u001b[1;32mraise\u001b[0m \u001b[0mValueError\u001b[0m\u001b[1;33m(\u001b[0m\u001b[1;34mf\"Must pass 2-d input. shape={values.shape}\"\u001b[0m\u001b[1;33m)\u001b[0m\u001b[1;33m\u001b[0m\u001b[1;33m\u001b[0m\u001b[0m\n\u001b[0m\u001b[0;32m    329\u001b[0m \u001b[1;33m\u001b[0m\u001b[0m\n\u001b[0;32m    330\u001b[0m     \u001b[1;32mreturn\u001b[0m \u001b[0mvalues\u001b[0m\u001b[1;33m\u001b[0m\u001b[1;33m\u001b[0m\u001b[0m\n",
      "\u001b[1;31mValueError\u001b[0m: Must pass 2-d input. shape=(4, 3, 2)"
     ]
    }
   ],
   "source": [
    "pd.DataFrame(c)     # convert only if the data is in 2 -D"
   ]
  },
  {
   "cell_type": "code",
   "execution_count": 91,
   "id": "15b8087d",
   "metadata": {},
   "outputs": [],
   "source": [
    "c=np.fromfunction(lambda i,j : i*j, (3,2), dtype= int)"
   ]
  },
  {
   "cell_type": "code",
   "execution_count": 92,
   "id": "6034d4eb",
   "metadata": {},
   "outputs": [
    {
     "data": {
      "text/html": [
       "<div>\n",
       "<style scoped>\n",
       "    .dataframe tbody tr th:only-of-type {\n",
       "        vertical-align: middle;\n",
       "    }\n",
       "\n",
       "    .dataframe tbody tr th {\n",
       "        vertical-align: top;\n",
       "    }\n",
       "\n",
       "    .dataframe thead th {\n",
       "        text-align: right;\n",
       "    }\n",
       "</style>\n",
       "<table border=\"1\" class=\"dataframe\">\n",
       "  <thead>\n",
       "    <tr style=\"text-align: right;\">\n",
       "      <th></th>\n",
       "      <th>0</th>\n",
       "      <th>1</th>\n",
       "    </tr>\n",
       "  </thead>\n",
       "  <tbody>\n",
       "    <tr>\n",
       "      <th>0</th>\n",
       "      <td>0</td>\n",
       "      <td>0</td>\n",
       "    </tr>\n",
       "    <tr>\n",
       "      <th>1</th>\n",
       "      <td>0</td>\n",
       "      <td>1</td>\n",
       "    </tr>\n",
       "    <tr>\n",
       "      <th>2</th>\n",
       "      <td>0</td>\n",
       "      <td>2</td>\n",
       "    </tr>\n",
       "  </tbody>\n",
       "</table>\n",
       "</div>"
      ],
      "text/plain": [
       "   0  1\n",
       "0  0  0\n",
       "1  0  1\n",
       "2  0  2"
      ]
     },
     "execution_count": 92,
     "metadata": {},
     "output_type": "execute_result"
    }
   ],
   "source": [
    "pd.DataFrame(c)"
   ]
  },
  {
   "cell_type": "code",
   "execution_count": null,
   "id": "abc0e455",
   "metadata": {},
   "outputs": [],
   "source": [
    "###################### RANDOM FUNCTION###############"
   ]
  },
  {
   "cell_type": "code",
   "execution_count": 93,
   "id": "c8e66792",
   "metadata": {},
   "outputs": [
    {
     "data": {
      "text/plain": [
       "array([[0.24115093, 0.02326611, 0.5113387 , 0.07011726],\n",
       "       [0.20008064, 0.43483917, 0.37193906, 0.39574168],\n",
       "       [0.42915777, 0.14938773, 0.74977965, 0.54021576],\n",
       "       [0.60150899, 0.75652877, 0.78294883, 0.6300589 ],\n",
       "       [0.85772244, 0.2881334 , 0.23554753, 0.01760707],\n",
       "       [0.70198924, 0.06144982, 0.00657786, 0.58922524],\n",
       "       [0.13606268, 0.34498577, 0.55345194, 0.34658336],\n",
       "       [0.12006597, 0.7628584 , 0.38149004, 0.25301613],\n",
       "       [0.51690126, 0.28360498, 0.58606571, 0.95260283],\n",
       "       [0.47724719, 0.65411171, 0.44142224, 0.90994918],\n",
       "       [0.14150428, 0.36855475, 0.94892718, 0.23630802],\n",
       "       [0.96648988, 0.62881734, 0.54059459, 0.77234901],\n",
       "       [0.88651513, 0.7314672 , 0.15964645, 0.00742004],\n",
       "       [0.9270502 , 0.00282777, 0.89403969, 0.86743459],\n",
       "       [0.23410276, 0.361877  , 0.48733025, 0.78449965],\n",
       "       [0.79905856, 0.0411883 , 0.48618811, 0.80107421],\n",
       "       [0.50953842, 0.35011246, 0.84675011, 0.79442886],\n",
       "       [0.83067747, 0.08147025, 0.56803079, 0.04872894],\n",
       "       [0.73198099, 0.71644735, 0.23528031, 0.11011305],\n",
       "       [0.16273766, 0.65375722, 0.61869055, 0.778574  ],\n",
       "       [0.17936472, 0.62100961, 0.74236682, 0.53304606],\n",
       "       [0.52444171, 0.40495613, 0.95430929, 0.35925463],\n",
       "       [0.20136875, 0.21041376, 0.43371851, 0.64771707],\n",
       "       [0.83921974, 0.78948943, 0.27181138, 0.45164277],\n",
       "       [0.61311789, 0.28599898, 0.31506776, 0.93273704],\n",
       "       [0.88894322, 0.33644787, 0.51910655, 0.85567525],\n",
       "       [0.97309868, 0.36550316, 0.66844028, 0.10202359],\n",
       "       [0.89450102, 0.42274681, 0.80237118, 0.22804741],\n",
       "       [0.66913493, 0.70952187, 0.07937291, 0.06172996],\n",
       "       [0.93004422, 0.01700908, 0.22891371, 0.39300378],\n",
       "       [0.60401144, 0.90952676, 0.05859261, 0.10034147],\n",
       "       [0.19190822, 0.35586789, 0.66635807, 0.49713481],\n",
       "       [0.45938611, 0.48558702, 0.25598853, 0.36004547],\n",
       "       [0.5089477 , 0.40395522, 0.44758225, 0.41022447],\n",
       "       [0.66594798, 0.80618015, 0.35445886, 0.52197419],\n",
       "       [0.42495596, 0.34927885, 0.17418544, 0.82182508],\n",
       "       [0.7110145 , 0.36925578, 0.48972311, 0.91501094],\n",
       "       [0.12747875, 0.79431736, 0.66308133, 0.4063729 ],\n",
       "       [0.27314187, 0.18819899, 0.38113257, 0.66525336],\n",
       "       [0.21098933, 0.82997968, 0.75657041, 0.63342033],\n",
       "       [0.85777225, 0.97448173, 0.49892872, 0.88180277],\n",
       "       [0.09098683, 0.97954323, 0.00533756, 0.42271293],\n",
       "       [0.90248225, 0.71326447, 0.66866991, 0.13271508],\n",
       "       [0.92925326, 0.68732261, 0.93851809, 0.25924237],\n",
       "       [0.53712684, 0.63653863, 0.03547275, 0.75726813],\n",
       "       [0.53067421, 0.97234708, 0.88438149, 0.15793588],\n",
       "       [0.31366673, 0.83538354, 0.53117112, 0.1465674 ],\n",
       "       [0.78010856, 0.81328408, 0.42804155, 0.42223981],\n",
       "       [0.05166491, 0.26305368, 0.02148466, 0.44720367],\n",
       "       [0.54192381, 0.48749761, 0.31409455, 0.45344384],\n",
       "       [0.20188591, 0.0139783 , 0.90521526, 0.99173679],\n",
       "       [0.61116256, 0.27390561, 0.60361571, 0.67208717],\n",
       "       [0.08520899, 0.3164331 , 0.63888645, 0.48994297],\n",
       "       [0.41445272, 0.86156023, 0.80640474, 0.38797761],\n",
       "       [0.34681057, 0.63184872, 0.04824317, 0.75911554],\n",
       "       [0.1709941 , 0.58037963, 0.11693906, 0.20605582],\n",
       "       [0.63829794, 0.80625632, 0.65006429, 0.40468651],\n",
       "       [0.21736788, 0.6865982 , 0.91718857, 0.99047642],\n",
       "       [0.42035431, 0.2602322 , 0.8348644 , 0.83258277],\n",
       "       [0.26512243, 0.16514479, 0.27367107, 0.02701236],\n",
       "       [0.83470917, 0.53954109, 0.64923642, 0.60532084],\n",
       "       [0.86803305, 0.66349743, 0.32829722, 0.37348013],\n",
       "       [0.41264427, 0.57373132, 0.212379  , 0.3037711 ],\n",
       "       [0.87232382, 0.37187104, 0.09818292, 0.47442851],\n",
       "       [0.84960887, 0.7990254 , 0.6877773 , 0.31173508],\n",
       "       [0.04977006, 0.27011682, 0.52870254, 0.18412153],\n",
       "       [0.40591369, 0.42144254, 0.82393381, 0.26252449],\n",
       "       [0.25956004, 0.19986747, 0.880592  , 0.05565566],\n",
       "       [0.321815  , 0.38352672, 0.06940122, 0.88619056],\n",
       "       [0.88897643, 0.72263861, 0.06220087, 0.82389561],\n",
       "       [0.76017337, 0.4078775 , 0.51167536, 0.27091775],\n",
       "       [0.42858254, 0.80484005, 0.90292776, 0.17796711],\n",
       "       [0.39400976, 0.95707821, 0.34623238, 0.82722079],\n",
       "       [0.80111942, 0.56591381, 0.20172522, 0.18731757],\n",
       "       [0.33381269, 0.40273489, 0.07391579, 0.69087683],\n",
       "       [0.076217  , 0.98730061, 0.20493391, 0.13145748],\n",
       "       [0.01550222, 0.27164133, 0.72524855, 0.6192813 ],\n",
       "       [0.29335865, 0.25206508, 0.29791647, 0.14167748],\n",
       "       [0.76040847, 0.39474326, 0.60956858, 0.02143746],\n",
       "       [0.19952288, 0.24888256, 0.5538058 , 0.0138807 ],\n",
       "       [0.08609966, 0.92927172, 0.45813897, 0.22393934],\n",
       "       [0.34766949, 0.96510556, 0.8732063 , 0.12424493],\n",
       "       [0.48469056, 0.42671345, 0.15452366, 0.5106922 ],\n",
       "       [0.27382337, 0.39897924, 0.86935895, 0.71852871],\n",
       "       [0.51265272, 0.94272125, 0.10031549, 0.48846224],\n",
       "       [0.03352849, 0.90615015, 0.75045315, 0.55398008],\n",
       "       [0.56019757, 0.93287606, 0.41858959, 0.96410145],\n",
       "       [0.54331913, 0.10288875, 0.18991446, 0.10118838],\n",
       "       [0.68780959, 0.97345497, 0.92168117, 0.3435723 ],\n",
       "       [0.85767999, 0.4210122 , 0.04722073, 0.42090222],\n",
       "       [0.17561353, 0.93591953, 0.92303018, 0.61914746],\n",
       "       [0.35076362, 0.57480837, 0.95821343, 0.13638406],\n",
       "       [0.78796957, 0.86876166, 0.55283917, 0.83362046],\n",
       "       [0.16538082, 0.5754587 , 0.41871152, 0.15876518],\n",
       "       [0.08737341, 0.35504916, 0.94233314, 0.59534752],\n",
       "       [0.61048504, 0.16192195, 0.1849489 , 0.75809471],\n",
       "       [0.87025122, 0.83546918, 0.99066052, 0.22235329],\n",
       "       [0.64507233, 0.44487205, 0.04336715, 0.37641929],\n",
       "       [0.39754997, 0.37914181, 0.12169033, 0.40393264],\n",
       "       [0.23785289, 0.61947582, 0.18958415, 0.36067452]])"
      ]
     },
     "execution_count": 93,
     "metadata": {},
     "output_type": "execute_result"
    }
   ],
   "source": [
    "np.random.rand(100,4)"
   ]
  },
  {
   "cell_type": "code",
   "execution_count": 94,
   "id": "aa0c5a6b",
   "metadata": {},
   "outputs": [
    {
     "data": {
      "text/plain": [
       "4"
      ]
     },
     "execution_count": 94,
     "metadata": {},
     "output_type": "execute_result"
    }
   ],
   "source": [
    "np.random.randint(4,5)"
   ]
  },
  {
   "cell_type": "code",
   "execution_count": 95,
   "id": "ac85efec",
   "metadata": {},
   "outputs": [
    {
     "data": {
      "text/plain": [
       "7"
      ]
     },
     "execution_count": 95,
     "metadata": {},
     "output_type": "execute_result"
    }
   ],
   "source": [
    "np.random.randint(4,10\n",
    "                 )"
   ]
  },
  {
   "cell_type": "code",
   "execution_count": 98,
   "id": "68d328a7",
   "metadata": {},
   "outputs": [
    {
     "data": {
      "text/plain": [
       "27"
      ]
     },
     "execution_count": 98,
     "metadata": {},
     "output_type": "execute_result"
    }
   ],
   "source": [
    "np.random.randint(4,50)"
   ]
  },
  {
   "cell_type": "code",
   "execution_count": 103,
   "id": "1cd34a50",
   "metadata": {},
   "outputs": [
    {
     "data": {
      "text/plain": [
       "array([[-0.48321652,  1.26584183,  1.17201026, -0.99365699, -0.64779946],\n",
       "       [-0.56068225,  0.31373143,  1.30795134, -0.77956125, -0.04500432],\n",
       "       [-0.30366676,  0.51700406,  0.54062569, -1.64570845,  1.70623347],\n",
       "       [ 1.85261511,  2.08154465,  0.42878175,  0.6829379 , -0.66323727]])"
      ]
     },
     "execution_count": 103,
     "metadata": {},
     "output_type": "execute_result"
    }
   ],
   "source": [
    "np.random.randn(4,5) # With normal distribution , AVG = 0 and SD = 1\n",
    "# all the mean of the data is 0 and SD 1"
   ]
  },
  {
   "cell_type": "code",
   "execution_count": 104,
   "id": "2ddfbddb",
   "metadata": {},
   "outputs": [
    {
     "data": {
      "text/html": [
       "<div>\n",
       "<style scoped>\n",
       "    .dataframe tbody tr th:only-of-type {\n",
       "        vertical-align: middle;\n",
       "    }\n",
       "\n",
       "    .dataframe tbody tr th {\n",
       "        vertical-align: top;\n",
       "    }\n",
       "\n",
       "    .dataframe thead th {\n",
       "        text-align: right;\n",
       "    }\n",
       "</style>\n",
       "<table border=\"1\" class=\"dataframe\">\n",
       "  <thead>\n",
       "    <tr style=\"text-align: right;\">\n",
       "      <th></th>\n",
       "      <th>0</th>\n",
       "      <th>1</th>\n",
       "      <th>2</th>\n",
       "      <th>3</th>\n",
       "      <th>4</th>\n",
       "    </tr>\n",
       "  </thead>\n",
       "  <tbody>\n",
       "    <tr>\n",
       "      <th>0</th>\n",
       "      <td>-0.106690</td>\n",
       "      <td>1.187315</td>\n",
       "      <td>0.660400</td>\n",
       "      <td>-1.310044</td>\n",
       "      <td>-1.944340</td>\n",
       "    </tr>\n",
       "    <tr>\n",
       "      <th>1</th>\n",
       "      <td>-0.647578</td>\n",
       "      <td>-0.843933</td>\n",
       "      <td>-0.230632</td>\n",
       "      <td>-0.240301</td>\n",
       "      <td>-0.299097</td>\n",
       "    </tr>\n",
       "    <tr>\n",
       "      <th>2</th>\n",
       "      <td>-0.915367</td>\n",
       "      <td>0.520200</td>\n",
       "      <td>1.461699</td>\n",
       "      <td>0.421395</td>\n",
       "      <td>0.575100</td>\n",
       "    </tr>\n",
       "    <tr>\n",
       "      <th>3</th>\n",
       "      <td>0.577531</td>\n",
       "      <td>0.238836</td>\n",
       "      <td>0.265853</td>\n",
       "      <td>1.414515</td>\n",
       "      <td>-0.420043</td>\n",
       "    </tr>\n",
       "  </tbody>\n",
       "</table>\n",
       "</div>"
      ],
      "text/plain": [
       "          0         1         2         3         4\n",
       "0 -0.106690  1.187315  0.660400 -1.310044 -1.944340\n",
       "1 -0.647578 -0.843933 -0.230632 -0.240301 -0.299097\n",
       "2 -0.915367  0.520200  1.461699  0.421395  0.575100\n",
       "3  0.577531  0.238836  0.265853  1.414515 -0.420043"
      ]
     },
     "execution_count": 104,
     "metadata": {},
     "output_type": "execute_result"
    }
   ],
   "source": [
    " pd.DataFrame(np.random.randn(4,5))"
   ]
  },
  {
   "cell_type": "code",
   "execution_count": 107,
   "id": "635a0f87",
   "metadata": {},
   "outputs": [],
   "source": [
    "n = pd.DataFrame(np.random.randn(4,5))\n"
   ]
  },
  {
   "cell_type": "code",
   "execution_count": null,
   "id": "0c6363a0",
   "metadata": {},
   "outputs": [],
   "source": [
    "############### CONVERT OF CHANGED THE DIMENSION OF A DATASET################3\n"
   ]
  },
  {
   "cell_type": "code",
   "execution_count": 108,
   "id": "c7e95f39",
   "metadata": {},
   "outputs": [],
   "source": [
    "c=np.fromfunction(lambda i,j,k : i*j*k, (4,3,2), dtype= int)"
   ]
  },
  {
   "cell_type": "code",
   "execution_count": 109,
   "id": "b77cd95d",
   "metadata": {},
   "outputs": [
    {
     "data": {
      "text/plain": [
       "array([[[0, 0],\n",
       "        [0, 0],\n",
       "        [0, 0]],\n",
       "\n",
       "       [[0, 0],\n",
       "        [0, 1],\n",
       "        [0, 2]],\n",
       "\n",
       "       [[0, 0],\n",
       "        [0, 2],\n",
       "        [0, 4]],\n",
       "\n",
       "       [[0, 0],\n",
       "        [0, 3],\n",
       "        [0, 6]]])"
      ]
     },
     "execution_count": 109,
     "metadata": {},
     "output_type": "execute_result"
    }
   ],
   "source": [
    "C"
   ]
  },
  {
   "cell_type": "code",
   "execution_count": 110,
   "id": "a695e61f",
   "metadata": {},
   "outputs": [
    {
     "data": {
      "text/plain": [
       "3"
      ]
     },
     "execution_count": 110,
     "metadata": {},
     "output_type": "execute_result"
    }
   ],
   "source": [
    "C.ndim"
   ]
  },
  {
   "cell_type": "code",
   "execution_count": 112,
   "id": "15091a38",
   "metadata": {},
   "outputs": [
    {
     "data": {
      "text/plain": [
       "24"
      ]
     },
     "execution_count": 112,
     "metadata": {},
     "output_type": "execute_result"
    }
   ],
   "source": [
    "C.size"
   ]
  },
  {
   "cell_type": "code",
   "execution_count": 113,
   "id": "ef7c38b8",
   "metadata": {},
   "outputs": [
    {
     "data": {
      "text/plain": [
       "array([[0, 0, 0, 0],\n",
       "       [0, 0, 0, 0],\n",
       "       [0, 1, 0, 2],\n",
       "       [0, 0, 0, 2],\n",
       "       [0, 4, 0, 0],\n",
       "       [0, 3, 0, 6]])"
      ]
     },
     "execution_count": 113,
     "metadata": {},
     "output_type": "execute_result"
    }
   ],
   "source": [
    "C.reshape(6,4)"
   ]
  },
  {
   "cell_type": "code",
   "execution_count": 114,
   "id": "3e107538",
   "metadata": {},
   "outputs": [
    {
     "data": {
      "text/plain": [
       "array([[0, 0],\n",
       "       [0, 0],\n",
       "       [0, 0],\n",
       "       [0, 0],\n",
       "       [0, 1],\n",
       "       [0, 2],\n",
       "       [0, 0],\n",
       "       [0, 2],\n",
       "       [0, 4],\n",
       "       [0, 0],\n",
       "       [0, 3],\n",
       "       [0, 6]])"
      ]
     },
     "execution_count": 114,
     "metadata": {},
     "output_type": "execute_result"
    }
   ],
   "source": [
    "C.reshape(12,2)"
   ]
  },
  {
   "cell_type": "code",
   "execution_count": 115,
   "id": "c9af6f64",
   "metadata": {},
   "outputs": [
    {
     "data": {
      "text/plain": [
       "array([[0, 0, 0, 0, 0, 0, 0, 0, 0, 1, 0, 2, 0, 0, 0, 2, 0, 4, 0, 0, 0, 3,\n",
       "        0, 6]])"
      ]
     },
     "execution_count": 115,
     "metadata": {},
     "output_type": "execute_result"
    }
   ],
   "source": [
    "C.reshape(1,24)"
   ]
  },
  {
   "cell_type": "code",
   "execution_count": null,
   "id": "098881ae",
   "metadata": {},
   "outputs": [],
   "source": [
    "# what ever will be the fraction of the size will be able to reshape accordingly "
   ]
  },
  {
   "cell_type": "code",
   "execution_count": 118,
   "id": "60f65e06",
   "metadata": {},
   "outputs": [],
   "source": [
    "c=C.reshape(3,8)"
   ]
  },
  {
   "cell_type": "code",
   "execution_count": 119,
   "id": "698d9630",
   "metadata": {},
   "outputs": [
    {
     "data": {
      "text/html": [
       "<div>\n",
       "<style scoped>\n",
       "    .dataframe tbody tr th:only-of-type {\n",
       "        vertical-align: middle;\n",
       "    }\n",
       "\n",
       "    .dataframe tbody tr th {\n",
       "        vertical-align: top;\n",
       "    }\n",
       "\n",
       "    .dataframe thead th {\n",
       "        text-align: right;\n",
       "    }\n",
       "</style>\n",
       "<table border=\"1\" class=\"dataframe\">\n",
       "  <thead>\n",
       "    <tr style=\"text-align: right;\">\n",
       "      <th></th>\n",
       "      <th>0</th>\n",
       "      <th>1</th>\n",
       "      <th>2</th>\n",
       "      <th>3</th>\n",
       "      <th>4</th>\n",
       "      <th>5</th>\n",
       "      <th>6</th>\n",
       "      <th>7</th>\n",
       "    </tr>\n",
       "  </thead>\n",
       "  <tbody>\n",
       "    <tr>\n",
       "      <th>0</th>\n",
       "      <td>0</td>\n",
       "      <td>0</td>\n",
       "      <td>0</td>\n",
       "      <td>0</td>\n",
       "      <td>0</td>\n",
       "      <td>0</td>\n",
       "      <td>0</td>\n",
       "      <td>0</td>\n",
       "    </tr>\n",
       "    <tr>\n",
       "      <th>1</th>\n",
       "      <td>0</td>\n",
       "      <td>1</td>\n",
       "      <td>0</td>\n",
       "      <td>2</td>\n",
       "      <td>0</td>\n",
       "      <td>0</td>\n",
       "      <td>0</td>\n",
       "      <td>2</td>\n",
       "    </tr>\n",
       "    <tr>\n",
       "      <th>2</th>\n",
       "      <td>0</td>\n",
       "      <td>4</td>\n",
       "      <td>0</td>\n",
       "      <td>0</td>\n",
       "      <td>0</td>\n",
       "      <td>3</td>\n",
       "      <td>0</td>\n",
       "      <td>6</td>\n",
       "    </tr>\n",
       "  </tbody>\n",
       "</table>\n",
       "</div>"
      ],
      "text/plain": [
       "   0  1  2  3  4  5  6  7\n",
       "0  0  0  0  0  0  0  0  0\n",
       "1  0  1  0  2  0  0  0  2\n",
       "2  0  4  0  0  0  3  0  6"
      ]
     },
     "execution_count": 119,
     "metadata": {},
     "output_type": "execute_result"
    }
   ],
   "source": [
    "pd.DataFrame(c)"
   ]
  },
  {
   "cell_type": "code",
   "execution_count": null,
   "id": "eea1aa0d",
   "metadata": {},
   "outputs": [],
   "source": [
    "# How to convert into 4 D"
   ]
  },
  {
   "cell_type": "code",
   "execution_count": 120,
   "id": "ff42ce58",
   "metadata": {},
   "outputs": [],
   "source": [
    "c=np.fromfunction(lambda i,j,k : i*j*k, (4,3,2), dtype= int)"
   ]
  },
  {
   "cell_type": "code",
   "execution_count": 121,
   "id": "249763e4",
   "metadata": {},
   "outputs": [
    {
     "data": {
      "text/plain": [
       "array([[[0, 0],\n",
       "        [0, 0],\n",
       "        [0, 0]],\n",
       "\n",
       "       [[0, 0],\n",
       "        [0, 1],\n",
       "        [0, 2]],\n",
       "\n",
       "       [[0, 0],\n",
       "        [0, 2],\n",
       "        [0, 4]],\n",
       "\n",
       "       [[0, 0],\n",
       "        [0, 3],\n",
       "        [0, 6]]])"
      ]
     },
     "execution_count": 121,
     "metadata": {},
     "output_type": "execute_result"
    }
   ],
   "source": [
    "c"
   ]
  },
  {
   "cell_type": "code",
   "execution_count": 122,
   "id": "b13c7244",
   "metadata": {},
   "outputs": [
    {
     "data": {
      "text/plain": [
       "array([[[[0, 0],\n",
       "         [0, 0],\n",
       "         [0, 0]],\n",
       "\n",
       "        [[0, 0],\n",
       "         [0, 1],\n",
       "         [0, 2]]],\n",
       "\n",
       "\n",
       "       [[[0, 0],\n",
       "         [0, 2],\n",
       "         [0, 4]],\n",
       "\n",
       "        [[0, 0],\n",
       "         [0, 3],\n",
       "         [0, 6]]]])"
      ]
     },
     "execution_count": 122,
     "metadata": {},
     "output_type": "execute_result"
    }
   ],
   "source": [
    "c.reshape(2,2,3,2)"
   ]
  },
  {
   "cell_type": "code",
   "execution_count": null,
   "id": "1e6ada9b",
   "metadata": {},
   "outputs": [],
   "source": [
    "# reshape is function used in image processing "
   ]
  },
  {
   "cell_type": "code",
   "execution_count": 123,
   "id": "e75acfe0",
   "metadata": {},
   "outputs": [
    {
     "data": {
      "text/plain": [
       "array([[0, 0, 0, 0, 0, 0],\n",
       "       [0, 0, 0, 1, 0, 2],\n",
       "       [0, 0, 0, 2, 0, 4],\n",
       "       [0, 0, 0, 3, 0, 6]])"
      ]
     },
     "execution_count": 123,
     "metadata": {},
     "output_type": "execute_result"
    }
   ],
   "source": [
    "c.reshape(4,-1)"
   ]
  },
  {
   "cell_type": "code",
   "execution_count": 125,
   "id": "baa1c604",
   "metadata": {},
   "outputs": [
    {
     "ename": "ValueError",
     "evalue": "cannot reshape array of size 24 into shape (5,newaxis)",
     "output_type": "error",
     "traceback": [
      "\u001b[1;31m---------------------------------------------------------------------------\u001b[0m",
      "\u001b[1;31mValueError\u001b[0m                                Traceback (most recent call last)",
      "\u001b[1;32m<ipython-input-125-9289f847391b>\u001b[0m in \u001b[0;36m<module>\u001b[1;34m\u001b[0m\n\u001b[1;32m----> 1\u001b[1;33m \u001b[0mc\u001b[0m\u001b[1;33m.\u001b[0m\u001b[0mreshape\u001b[0m\u001b[1;33m(\u001b[0m\u001b[1;36m5\u001b[0m\u001b[1;33m,\u001b[0m\u001b[1;33m-\u001b[0m\u001b[1;36m1\u001b[0m\u001b[1;33m)\u001b[0m\u001b[1;33m\u001b[0m\u001b[1;33m\u001b[0m\u001b[0m\n\u001b[0m",
      "\u001b[1;31mValueError\u001b[0m: cannot reshape array of size 24 into shape (5,newaxis)"
     ]
    }
   ],
   "source": [
    "c.reshape(5,-1)"
   ]
  },
  {
   "cell_type": "code",
   "execution_count": 126,
   "id": "dfb35895",
   "metadata": {},
   "outputs": [
    {
     "data": {
      "text/plain": [
       "array([[0, 0, 0, 0, 0, 0, 0, 0, 0, 1, 0, 2],\n",
       "       [0, 0, 0, 2, 0, 4, 0, 0, 0, 3, 0, 6]])"
      ]
     },
     "execution_count": 126,
     "metadata": {},
     "output_type": "execute_result"
    }
   ],
   "source": [
    "c.reshape(2,-1)"
   ]
  },
  {
   "cell_type": "code",
   "execution_count": 127,
   "id": "daede288",
   "metadata": {},
   "outputs": [
    {
     "data": {
      "text/plain": [
       "array([[0, 0, 0, 0, 0, 0, 0, 0],\n",
       "       [0, 1, 0, 2, 0, 0, 0, 2],\n",
       "       [0, 4, 0, 0, 0, 3, 0, 6]])"
      ]
     },
     "execution_count": 127,
     "metadata": {},
     "output_type": "execute_result"
    }
   ],
   "source": [
    "c.reshape(3,-1)"
   ]
  },
  {
   "cell_type": "code",
   "execution_count": 128,
   "id": "7314ad12",
   "metadata": {},
   "outputs": [
    {
     "data": {
      "text/plain": [
       "array([[0, 0, 0, 0],\n",
       "       [0, 0, 0, 0],\n",
       "       [0, 1, 0, 2],\n",
       "       [0, 0, 0, 2],\n",
       "       [0, 4, 0, 0],\n",
       "       [0, 3, 0, 6]])"
      ]
     },
     "execution_count": 128,
     "metadata": {},
     "output_type": "execute_result"
    }
   ],
   "source": [
    "c.reshape(6,-1)"
   ]
  },
  {
   "cell_type": "code",
   "execution_count": 129,
   "id": "92c9a484",
   "metadata": {},
   "outputs": [
    {
     "data": {
      "text/plain": [
       "array([[0, 0, 0, 0],\n",
       "       [0, 0, 0, 0],\n",
       "       [0, 1, 0, 2],\n",
       "       [0, 0, 0, 2],\n",
       "       [0, 4, 0, 0],\n",
       "       [0, 3, 0, 6]])"
      ]
     },
     "execution_count": 129,
     "metadata": {},
     "output_type": "execute_result"
    }
   ],
   "source": [
    "c.reshape(6,-13513546)"
   ]
  },
  {
   "cell_type": "code",
   "execution_count": 130,
   "id": "966b3a3f",
   "metadata": {},
   "outputs": [
    {
     "data": {
      "text/plain": [
       "array([[[0, 0, 0],\n",
       "        [0, 0, 0],\n",
       "        [0, 0, 0],\n",
       "        [1, 0, 2]],\n",
       "\n",
       "       [[0, 0, 0],\n",
       "        [2, 0, 4],\n",
       "        [0, 0, 0],\n",
       "        [3, 0, 6]]])"
      ]
     },
     "execution_count": 130,
     "metadata": {},
     "output_type": "execute_result"
    }
   ],
   "source": [
    "c.reshape(2,4,-13513546)"
   ]
  },
  {
   "cell_type": "code",
   "execution_count": null,
   "id": "6049e9f7",
   "metadata": {},
   "outputs": [],
   "source": [
    "######################### RANGE ################################\n",
    "\n",
    "# Equivalent function of a range function arange in numpy "
   ]
  },
  {
   "cell_type": "code",
   "execution_count": 131,
   "id": "2eb542bb",
   "metadata": {},
   "outputs": [
    {
     "data": {
      "text/plain": [
       "[4, 5, 6, 7, 8, 9]"
      ]
     },
     "execution_count": 131,
     "metadata": {},
     "output_type": "execute_result"
    }
   ],
   "source": [
    "list(range(4,10))"
   ]
  },
  {
   "cell_type": "code",
   "execution_count": 132,
   "id": "1291b89f",
   "metadata": {},
   "outputs": [
    {
     "data": {
      "text/plain": [
       "[4, 5, 6, 7, 8, 9, 10]"
      ]
     },
     "execution_count": 132,
     "metadata": {},
     "output_type": "execute_result"
    }
   ],
   "source": [
    "list(range(4,11))"
   ]
  },
  {
   "cell_type": "code",
   "execution_count": 134,
   "id": "48addb5c",
   "metadata": {},
   "outputs": [
    {
     "data": {
      "text/plain": [
       "[4, 7, 10, 13, 16, 19, 22, 25, 28, 31, 34, 37, 40, 43, 46, 49]"
      ]
     },
     "execution_count": 134,
     "metadata": {},
     "output_type": "execute_result"
    }
   ],
   "source": [
    "list(range(4,50,3))"
   ]
  },
  {
   "cell_type": "code",
   "execution_count": 135,
   "id": "044eb47d",
   "metadata": {},
   "outputs": [
    {
     "ename": "TypeError",
     "evalue": "'float' object cannot be interpreted as an integer",
     "output_type": "error",
     "traceback": [
      "\u001b[1;31m---------------------------------------------------------------------------\u001b[0m",
      "\u001b[1;31mTypeError\u001b[0m                                 Traceback (most recent call last)",
      "\u001b[1;32m<ipython-input-135-0a9f397bd87f>\u001b[0m in \u001b[0;36m<module>\u001b[1;34m\u001b[0m\n\u001b[1;32m----> 1\u001b[1;33m \u001b[0mlist\u001b[0m\u001b[1;33m(\u001b[0m\u001b[0mrange\u001b[0m\u001b[1;33m(\u001b[0m\u001b[1;36m4\u001b[0m\u001b[1;33m,\u001b[0m\u001b[1;36m50\u001b[0m\u001b[1;33m,\u001b[0m\u001b[1;36m0.2\u001b[0m\u001b[1;33m)\u001b[0m\u001b[1;33m)\u001b[0m\u001b[1;33m\u001b[0m\u001b[1;33m\u001b[0m\u001b[0m\n\u001b[0m",
      "\u001b[1;31mTypeError\u001b[0m: 'float' object cannot be interpreted as an integer"
     ]
    }
   ],
   "source": [
    "list(range(4,50,0.2))"
   ]
  },
  {
   "cell_type": "code",
   "execution_count": null,
   "id": "d2f0f6f7",
   "metadata": {},
   "outputs": [],
   "source": [
    "# in the numpy we have arange"
   ]
  },
  {
   "cell_type": "code",
   "execution_count": 140,
   "id": "85c0b6e6",
   "metadata": {},
   "outputs": [
    {
     "data": {
      "text/plain": [
       "array([4. , 4.2, 4.4, 4.6, 4.8, 5. , 5.2, 5.4, 5.6, 5.8, 6. , 6.2, 6.4,\n",
       "       6.6, 6.8, 7. , 7.2, 7.4, 7.6, 7.8, 8. , 8.2, 8.4, 8.6, 8.8, 9. ,\n",
       "       9.2, 9.4, 9.6, 9.8])"
      ]
     },
     "execution_count": 140,
     "metadata": {},
     "output_type": "execute_result"
    }
   ],
   "source": [
    "np.arange(4,10,0.2)"
   ]
  },
  {
   "cell_type": "code",
   "execution_count": 141,
   "id": "9ae666e5",
   "metadata": {},
   "outputs": [
    {
     "data": {
      "text/plain": [
       "[4.0,\n",
       " 4.2,\n",
       " 4.4,\n",
       " 4.6000000000000005,\n",
       " 4.800000000000001,\n",
       " 5.000000000000001,\n",
       " 5.200000000000001,\n",
       " 5.400000000000001,\n",
       " 5.600000000000001,\n",
       " 5.800000000000002,\n",
       " 6.000000000000002,\n",
       " 6.200000000000002,\n",
       " 6.400000000000002,\n",
       " 6.600000000000002,\n",
       " 6.8000000000000025,\n",
       " 7.000000000000003,\n",
       " 7.200000000000003,\n",
       " 7.400000000000003,\n",
       " 7.600000000000003,\n",
       " 7.800000000000003,\n",
       " 8.000000000000004,\n",
       " 8.200000000000003,\n",
       " 8.400000000000004,\n",
       " 8.600000000000005,\n",
       " 8.800000000000004,\n",
       " 9.000000000000004,\n",
       " 9.200000000000005,\n",
       " 9.400000000000006,\n",
       " 9.600000000000005,\n",
       " 9.800000000000004]"
      ]
     },
     "execution_count": 141,
     "metadata": {},
     "output_type": "execute_result"
    }
   ],
   "source": [
    "list(np.arange(4,10,0.2),)"
   ]
  },
  {
   "cell_type": "code",
   "execution_count": 142,
   "id": "7ce4abd8",
   "metadata": {},
   "outputs": [
    {
     "data": {
      "text/plain": [
       "array([ 4. ,  4.2,  4.4,  4.6,  4.8,  5. ,  5.2,  5.4,  5.6,  5.8,  6. ,\n",
       "        6.2,  6.4,  6.6,  6.8,  7. ,  7.2,  7.4,  7.6,  7.8,  8. ,  8.2,\n",
       "        8.4,  8.6,  8.8,  9. ,  9.2,  9.4,  9.6,  9.8, 10. , 10.2, 10.4])"
      ]
     },
     "execution_count": 142,
     "metadata": {},
     "output_type": "execute_result"
    }
   ],
   "source": [
    "np.arange(4,10.5,0.2)"
   ]
  },
  {
   "cell_type": "code",
   "execution_count": 143,
   "id": "4810b4d9",
   "metadata": {},
   "outputs": [],
   "source": [
    "a2 = np.arange(4,10.5,0.2)"
   ]
  },
  {
   "cell_type": "code",
   "execution_count": 144,
   "id": "dba32e87",
   "metadata": {},
   "outputs": [
    {
     "data": {
      "text/plain": [
       "array([ 4. ,  4.2,  4.4,  4.6,  4.8,  5. ,  5.2,  5.4,  5.6,  5.8,  6. ,\n",
       "        6.2,  6.4,  6.6,  6.8,  7. ,  7.2,  7.4,  7.6,  7.8,  8. ,  8.2,\n",
       "        8.4,  8.6,  8.8,  9. ,  9.2,  9.4,  9.6,  9.8, 10. , 10.2, 10.4])"
      ]
     },
     "execution_count": 144,
     "metadata": {},
     "output_type": "execute_result"
    }
   ],
   "source": [
    "a2"
   ]
  },
  {
   "cell_type": "code",
   "execution_count": 145,
   "id": "7a5e8013",
   "metadata": {},
   "outputs": [
    {
     "data": {
      "text/plain": [
       "array([4., 5., 6., 7.])"
      ]
     },
     "execution_count": 145,
     "metadata": {},
     "output_type": "execute_result"
    }
   ],
   "source": [
    "a1[1:5] # slicing operation is same"
   ]
  },
  {
   "cell_type": "code",
   "execution_count": 146,
   "id": "4993c190",
   "metadata": {},
   "outputs": [],
   "source": [
    "arr = np.random.rand(4,5)"
   ]
  },
  {
   "cell_type": "code",
   "execution_count": 147,
   "id": "9b141d1a",
   "metadata": {},
   "outputs": [
    {
     "data": {
      "text/plain": [
       "array([[0.63722625, 0.70875723, 0.83586845, 0.4001449 , 0.15863871],\n",
       "       [0.80847805, 0.74306971, 0.75977923, 0.88137933, 0.27006904],\n",
       "       [0.11809809, 0.14126829, 0.04768812, 0.52202281, 0.31451514],\n",
       "       [0.14054591, 0.00871907, 0.61939236, 0.20204671, 0.85522625]])"
      ]
     },
     "execution_count": 147,
     "metadata": {},
     "output_type": "execute_result"
    }
   ],
   "source": [
    "arr"
   ]
  },
  {
   "cell_type": "code",
   "execution_count": null,
   "id": "31207ec8",
   "metadata": {},
   "outputs": [],
   "source": [
    "# Will you be able to extract all the data greater than 0.5 ? \n",
    "# operations is similar to pandas"
   ]
  },
  {
   "cell_type": "code",
   "execution_count": 148,
   "id": "381d3707",
   "metadata": {},
   "outputs": [
    {
     "data": {
      "text/plain": [
       "array([[ True,  True,  True, False, False],\n",
       "       [ True,  True,  True,  True, False],\n",
       "       [False, False, False,  True, False],\n",
       "       [False, False,  True, False,  True]])"
      ]
     },
     "execution_count": 148,
     "metadata": {},
     "output_type": "execute_result"
    }
   ],
   "source": [
    "arr>0.5"
   ]
  },
  {
   "cell_type": "code",
   "execution_count": 149,
   "id": "70228cd9",
   "metadata": {},
   "outputs": [
    {
     "data": {
      "text/plain": [
       "array([0.63722625, 0.70875723, 0.83586845, 0.80847805, 0.74306971,\n",
       "       0.75977923, 0.88137933, 0.52202281, 0.61939236, 0.85522625])"
      ]
     },
     "execution_count": 149,
     "metadata": {},
     "output_type": "execute_result"
    }
   ],
   "source": [
    "arr[arr>0.5]"
   ]
  },
  {
   "cell_type": "code",
   "execution_count": 150,
   "id": "316d51e3",
   "metadata": {},
   "outputs": [
    {
     "data": {
      "text/plain": [
       "array([[0.63722625, 0.70875723, 0.83586845, 0.4001449 , 0.15863871],\n",
       "       [0.80847805, 0.74306971, 0.75977923, 0.88137933, 0.27006904],\n",
       "       [0.11809809, 0.14126829, 0.04768812, 0.52202281, 0.31451514],\n",
       "       [0.14054591, 0.00871907, 0.61939236, 0.20204671, 0.85522625]])"
      ]
     },
     "execution_count": 150,
     "metadata": {},
     "output_type": "execute_result"
    }
   ],
   "source": [
    "arr"
   ]
  },
  {
   "cell_type": "code",
   "execution_count": 153,
   "id": "16257a43",
   "metadata": {},
   "outputs": [
    {
     "data": {
      "text/plain": [
       "0.7597792282482485"
      ]
     },
     "execution_count": 153,
     "metadata": {},
     "output_type": "execute_result"
    }
   ],
   "source": [
    "arr[1][2]"
   ]
  },
  {
   "cell_type": "code",
   "execution_count": 154,
   "id": "e811264b",
   "metadata": {},
   "outputs": [
    {
     "data": {
      "text/plain": [
       "0.047688123248070036"
      ]
     },
     "execution_count": 154,
     "metadata": {},
     "output_type": "execute_result"
    }
   ],
   "source": [
    "arr[2][2]"
   ]
  },
  {
   "cell_type": "code",
   "execution_count": 155,
   "id": "778f1594",
   "metadata": {},
   "outputs": [
    {
     "data": {
      "text/plain": [
       "array([0.75977923, 0.04768812])"
      ]
     },
     "execution_count": 155,
     "metadata": {},
     "output_type": "execute_result"
    }
   ],
   "source": [
    "arr[[1,2], [2]]"
   ]
  },
  {
   "cell_type": "code",
   "execution_count": 157,
   "id": "352a1398",
   "metadata": {},
   "outputs": [
    {
     "data": {
      "text/plain": [
       "array([[0.17779652, 0.04125589, 0.34369808, 0.60382027, 0.33448788],\n",
       "       [0.86420505, 0.62890777, 0.22606432, 0.40307971, 0.80156945],\n",
       "       [0.09750113, 0.82318213, 0.43784276, 0.42944996, 0.38000397],\n",
       "       [0.91425283, 0.41480033, 0.03338005, 0.56803517, 0.61402082],\n",
       "       [0.85151681, 0.7398293 , 0.29964903, 0.39222665, 0.61806892],\n",
       "       [0.22031214, 0.59430264, 0.10132858, 0.77413711, 0.56125959],\n",
       "       [0.25486158, 0.60043489, 0.22017891, 0.97904908, 0.63456155],\n",
       "       [0.76527209, 0.90636862, 0.11707297, 0.99168569, 0.18247207]])"
      ]
     },
     "execution_count": 157,
     "metadata": {},
     "output_type": "execute_result"
    }
   ],
   "source": [
    "arr1 = np.random.rand(8,5)\n",
    "arr1"
   ]
  },
  {
   "cell_type": "code",
   "execution_count": 161,
   "id": "ce372c0f",
   "metadata": {},
   "outputs": [
    {
     "data": {
      "text/plain": [
       "array([[0.86420505, 0.62890777, 0.22606432],\n",
       "       [0.09750113, 0.82318213, 0.43784276],\n",
       "       [0.91425283, 0.41480033, 0.03338005],\n",
       "       [0.85151681, 0.7398293 , 0.29964903],\n",
       "       [0.22031214, 0.59430264, 0.10132858],\n",
       "       [0.25486158, 0.60043489, 0.22017891],\n",
       "       [0.76527209, 0.90636862, 0.11707297]])"
      ]
     },
     "execution_count": 161,
     "metadata": {},
     "output_type": "execute_result"
    }
   ],
   "source": [
    "arr1[1:8,0:3]"
   ]
  },
  {
   "cell_type": "code",
   "execution_count": 163,
   "id": "a1a878e4",
   "metadata": {},
   "outputs": [
    {
     "data": {
      "text/plain": [
       "array([[0.86420505, 0.62890777, 0.22606432],\n",
       "       [0.09750113, 0.82318213, 0.43784276],\n",
       "       [0.91425283, 0.41480033, 0.03338005],\n",
       "       [0.85151681, 0.7398293 , 0.29964903],\n",
       "       [0.22031214, 0.59430264, 0.10132858]])"
      ]
     },
     "execution_count": 163,
     "metadata": {},
     "output_type": "execute_result"
    }
   ],
   "source": [
    "arr1[1:6,[0,1,2]]"
   ]
  },
  {
   "cell_type": "code",
   "execution_count": 164,
   "id": "aa9042b2",
   "metadata": {},
   "outputs": [
    {
     "data": {
      "text/plain": [
       "array([[0.17779652, 0.04125589, 0.34369808, 0.60382027, 0.33448788],\n",
       "       [0.86420505, 0.62890777, 0.22606432, 0.40307971, 0.80156945],\n",
       "       [0.09750113, 0.82318213, 0.43784276, 0.42944996, 0.38000397],\n",
       "       [0.91425283, 0.41480033, 0.03338005, 0.56803517, 0.61402082],\n",
       "       [0.85151681, 0.7398293 , 0.29964903, 0.39222665, 0.61806892],\n",
       "       [0.22031214, 0.59430264, 0.10132858, 0.77413711, 0.56125959],\n",
       "       [0.25486158, 0.60043489, 0.22017891, 0.97904908, 0.63456155],\n",
       "       [0.76527209, 0.90636862, 0.11707297, 0.99168569, 0.18247207]])"
      ]
     },
     "execution_count": 164,
     "metadata": {},
     "output_type": "execute_result"
    }
   ],
   "source": [
    "arr1"
   ]
  },
  {
   "cell_type": "code",
   "execution_count": null,
   "id": "239c93fd",
   "metadata": {},
   "outputs": [],
   "source": [
    "# Replace the very first data to another data "
   ]
  },
  {
   "cell_type": "code",
   "execution_count": 166,
   "id": "c3a1fb06",
   "metadata": {},
   "outputs": [
    {
     "data": {
      "text/plain": [
       "0.17779651525140916"
      ]
     },
     "execution_count": 166,
     "metadata": {},
     "output_type": "execute_result"
    }
   ],
   "source": [
    "arr1[0][0]"
   ]
  },
  {
   "cell_type": "code",
   "execution_count": 167,
   "id": "e0a7e4ce",
   "metadata": {},
   "outputs": [],
   "source": [
    "arr1[0][0] = 100"
   ]
  },
  {
   "cell_type": "code",
   "execution_count": 168,
   "id": "f98a2bda",
   "metadata": {},
   "outputs": [
    {
     "data": {
      "text/plain": [
       "array([[1.00000000e+02, 4.12558867e-02, 3.43698083e-01, 6.03820273e-01,\n",
       "        3.34487877e-01],\n",
       "       [8.64205051e-01, 6.28907774e-01, 2.26064318e-01, 4.03079711e-01,\n",
       "        8.01569448e-01],\n",
       "       [9.75011333e-02, 8.23182135e-01, 4.37842761e-01, 4.29449956e-01,\n",
       "        3.80003972e-01],\n",
       "       [9.14252831e-01, 4.14800332e-01, 3.33800475e-02, 5.68035174e-01,\n",
       "        6.14020818e-01],\n",
       "       [8.51516805e-01, 7.39829304e-01, 2.99649034e-01, 3.92226650e-01,\n",
       "        6.18068922e-01],\n",
       "       [2.20312141e-01, 5.94302641e-01, 1.01328575e-01, 7.74137115e-01,\n",
       "        5.61259587e-01],\n",
       "       [2.54861581e-01, 6.00434893e-01, 2.20178914e-01, 9.79049085e-01,\n",
       "        6.34561553e-01],\n",
       "       [7.65272086e-01, 9.06368624e-01, 1.17072974e-01, 9.91685693e-01,\n",
       "        1.82472073e-01]])"
      ]
     },
     "execution_count": 168,
     "metadata": {},
     "output_type": "execute_result"
    }
   ],
   "source": [
    "arr1"
   ]
  },
  {
   "cell_type": "code",
   "execution_count": 173,
   "id": "b0be9ae0",
   "metadata": {},
   "outputs": [],
   "source": [
    "f = np.array([[1,2],[3,4]])\n",
    "g = np.array([[2,3],[4,5]])"
   ]
  },
  {
   "cell_type": "code",
   "execution_count": 174,
   "id": "5abe7c7e",
   "metadata": {},
   "outputs": [
    {
     "data": {
      "text/plain": [
       "array([[1, 2],\n",
       "       [3, 4]])"
      ]
     },
     "execution_count": 174,
     "metadata": {},
     "output_type": "execute_result"
    }
   ],
   "source": [
    "f"
   ]
  },
  {
   "cell_type": "code",
   "execution_count": 175,
   "id": "169eaab5",
   "metadata": {},
   "outputs": [
    {
     "data": {
      "text/plain": [
       "array([[2, 3],\n",
       "       [4, 5]])"
      ]
     },
     "execution_count": 175,
     "metadata": {},
     "output_type": "execute_result"
    }
   ],
   "source": [
    "g"
   ]
  },
  {
   "cell_type": "code",
   "execution_count": 176,
   "id": "dead3f94",
   "metadata": {},
   "outputs": [
    {
     "data": {
      "text/plain": [
       "array([[ 2,  6],\n",
       "       [12, 20]])"
      ]
     },
     "execution_count": 176,
     "metadata": {},
     "output_type": "execute_result"
    }
   ],
   "source": [
    "f*g  ## ELEMENT WISE MULTIPLICATION "
   ]
  },
  {
   "cell_type": "code",
   "execution_count": null,
   "id": "6da78c36",
   "metadata": {},
   "outputs": [],
   "source": [
    "################## MATRIX MULTIPLICATION #########################\n",
    "# IT WILL BE USED A LOT IN DEEP LEARNING \n",
    "# DARK NET\n",
    "# ALEX NET\n",
    "# RESNET 100 , 150 \n",
    "# ETC"
   ]
  },
  {
   "cell_type": "code",
   "execution_count": 177,
   "id": "32784930",
   "metadata": {},
   "outputs": [
    {
     "data": {
      "text/plain": [
       "array([[10, 13],\n",
       "       [22, 29]])"
      ]
     },
     "execution_count": 177,
     "metadata": {},
     "output_type": "execute_result"
    }
   ],
   "source": [
    "f@g"
   ]
  },
  {
   "cell_type": "code",
   "execution_count": 178,
   "id": "f7569303",
   "metadata": {},
   "outputs": [],
   "source": [
    "h = f@g"
   ]
  },
  {
   "cell_type": "code",
   "execution_count": 179,
   "id": "412e73d4",
   "metadata": {},
   "outputs": [
    {
     "name": "stderr",
     "output_type": "stream",
     "text": [
      "<ipython-input-179-f5f7e40c6531>:1: RuntimeWarning: divide by zero encountered in true_divide\n",
      "  h/0\n"
     ]
    },
    {
     "data": {
      "text/plain": [
       "array([[inf, inf],\n",
       "       [inf, inf]])"
      ]
     },
     "execution_count": 179,
     "metadata": {},
     "output_type": "execute_result"
    }
   ],
   "source": [
    "h/0"
   ]
  },
  {
   "cell_type": "code",
   "execution_count": null,
   "id": "8080e09d",
   "metadata": {},
   "outputs": [],
   "source": []
  },
  {
   "cell_type": "code",
   "execution_count": null,
   "id": "25b1159a",
   "metadata": {},
   "outputs": [],
   "source": []
  },
  {
   "cell_type": "code",
   "execution_count": null,
   "id": "8497958f",
   "metadata": {},
   "outputs": [],
   "source": []
  },
  {
   "cell_type": "code",
   "execution_count": null,
   "id": "ea2567eb",
   "metadata": {},
   "outputs": [],
   "source": []
  },
  {
   "cell_type": "code",
   "execution_count": null,
   "id": "b407a428",
   "metadata": {},
   "outputs": [],
   "source": []
  },
  {
   "cell_type": "code",
   "execution_count": null,
   "id": "66facaa6",
   "metadata": {},
   "outputs": [],
   "source": []
  }
 ],
 "metadata": {
  "kernelspec": {
   "display_name": "Python 3",
   "language": "python",
   "name": "python3"
  },
  "language_info": {
   "codemirror_mode": {
    "name": "ipython",
    "version": 3
   },
   "file_extension": ".py",
   "mimetype": "text/x-python",
   "name": "python",
   "nbconvert_exporter": "python",
   "pygments_lexer": "ipython3",
   "version": "3.8.8"
  }
 },
 "nbformat": 4,
 "nbformat_minor": 5
}
