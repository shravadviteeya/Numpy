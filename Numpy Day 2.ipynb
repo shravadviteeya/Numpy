{
 "cells": [
  {
   "cell_type": "code",
   "execution_count": 1,
   "id": "6c3ae80f",
   "metadata": {},
   "outputs": [],
   "source": [
    "import numpy as np\n",
    "import pandas as pd\n",
    "\n",
    "# mostly it will be used in the machine learning or deep learning classes and computer vision classes"
   ]
  },
  {
   "cell_type": "code",
   "execution_count": 2,
   "id": "a27320b3",
   "metadata": {},
   "outputs": [],
   "source": [
    "l = [1,2,3,4,5,6]"
   ]
  },
  {
   "cell_type": "code",
   "execution_count": 3,
   "id": "9c6c1c27",
   "metadata": {},
   "outputs": [
    {
     "data": {
      "text/plain": [
       "array([1, 2, 3, 4, 5, 6])"
      ]
     },
     "execution_count": 3,
     "metadata": {},
     "output_type": "execute_result"
    }
   ],
   "source": [
    "np.asarray(l)"
   ]
  },
  {
   "cell_type": "code",
   "execution_count": 4,
   "id": "cd5c7fea",
   "metadata": {},
   "outputs": [
    {
     "data": {
      "text/plain": [
       "array([0., 0., 0., 0., 0.])"
      ]
     },
     "execution_count": 4,
     "metadata": {},
     "output_type": "execute_result"
    }
   ],
   "source": [
    "np.zeros(5)"
   ]
  },
  {
   "cell_type": "code",
   "execution_count": 5,
   "id": "d5a966fe",
   "metadata": {},
   "outputs": [
    {
     "data": {
      "text/plain": [
       "array([[0., 0., 0., 0.],\n",
       "       [0., 0., 0., 0.],\n",
       "       [0., 0., 0., 0.]])"
      ]
     },
     "execution_count": 5,
     "metadata": {},
     "output_type": "execute_result"
    }
   ],
   "source": [
    "np.zeros((3,4))"
   ]
  },
  {
   "cell_type": "code",
   "execution_count": 6,
   "id": "eecc06d6",
   "metadata": {},
   "outputs": [
    {
     "data": {
      "text/plain": [
       "array([[[0., 0., 0., 0., 0.],\n",
       "        [0., 0., 0., 0., 0.],\n",
       "        [0., 0., 0., 0., 0.],\n",
       "        [0., 0., 0., 0., 0.]],\n",
       "\n",
       "       [[0., 0., 0., 0., 0.],\n",
       "        [0., 0., 0., 0., 0.],\n",
       "        [0., 0., 0., 0., 0.],\n",
       "        [0., 0., 0., 0., 0.]],\n",
       "\n",
       "       [[0., 0., 0., 0., 0.],\n",
       "        [0., 0., 0., 0., 0.],\n",
       "        [0., 0., 0., 0., 0.],\n",
       "        [0., 0., 0., 0., 0.]]])"
      ]
     },
     "execution_count": 6,
     "metadata": {},
     "output_type": "execute_result"
    }
   ],
   "source": [
    "np.zeros((3,4,5))"
   ]
  },
  {
   "cell_type": "code",
   "execution_count": 7,
   "id": "7f975a38",
   "metadata": {},
   "outputs": [
    {
     "data": {
      "text/plain": [
       "array([[1., 1., 1., 1.],\n",
       "       [1., 1., 1., 1.],\n",
       "       [1., 1., 1., 1.]])"
      ]
     },
     "execution_count": 7,
     "metadata": {},
     "output_type": "execute_result"
    }
   ],
   "source": [
    "np.ones((3,4))"
   ]
  },
  {
   "cell_type": "code",
   "execution_count": 8,
   "id": "fed81769",
   "metadata": {},
   "outputs": [
    {
     "data": {
      "text/plain": [
       "array([1., 1., 1., 1., 1., 1., 1., 1., 1.])"
      ]
     },
     "execution_count": 8,
     "metadata": {},
     "output_type": "execute_result"
    }
   ],
   "source": [
    "np.ones(9)"
   ]
  },
  {
   "cell_type": "code",
   "execution_count": 10,
   "id": "db03e908",
   "metadata": {},
   "outputs": [
    {
     "data": {
      "text/plain": [
       "array([[[1., 1., 1., 1., 1.],\n",
       "        [1., 1., 1., 1., 1.],\n",
       "        [1., 1., 1., 1., 1.],\n",
       "        [1., 1., 1., 1., 1.]],\n",
       "\n",
       "       [[1., 1., 1., 1., 1.],\n",
       "        [1., 1., 1., 1., 1.],\n",
       "        [1., 1., 1., 1., 1.],\n",
       "        [1., 1., 1., 1., 1.]],\n",
       "\n",
       "       [[1., 1., 1., 1., 1.],\n",
       "        [1., 1., 1., 1., 1.],\n",
       "        [1., 1., 1., 1., 1.],\n",
       "        [1., 1., 1., 1., 1.]]])"
      ]
     },
     "execution_count": 10,
     "metadata": {},
     "output_type": "execute_result"
    }
   ],
   "source": [
    "np.ones((3,4,5))"
   ]
  },
  {
   "cell_type": "code",
   "execution_count": 11,
   "id": "53a6b042",
   "metadata": {},
   "outputs": [
    {
     "data": {
      "text/plain": [
       "array([[6., 6., 6., 6.],\n",
       "       [6., 6., 6., 6.],\n",
       "       [6., 6., 6., 6.]])"
      ]
     },
     "execution_count": 11,
     "metadata": {},
     "output_type": "execute_result"
    }
   ],
   "source": [
    "6 + np.zeros((3,4))"
   ]
  },
  {
   "cell_type": "code",
   "execution_count": 12,
   "id": "e7a55713",
   "metadata": {},
   "outputs": [
    {
     "data": {
      "text/plain": [
       "array([0., 0., 0., 0., 0.])"
      ]
     },
     "execution_count": 12,
     "metadata": {},
     "output_type": "execute_result"
    }
   ],
   "source": [
    "np.empty(5)"
   ]
  },
  {
   "cell_type": "code",
   "execution_count": 20,
   "id": "f2998ee5",
   "metadata": {},
   "outputs": [
    {
     "data": {
      "text/plain": [
       "array([[6., 6., 6., 6.],\n",
       "       [6., 6., 6., 6.],\n",
       "       [6., 6., 6., 6.]])"
      ]
     },
     "execution_count": 20,
     "metadata": {},
     "output_type": "execute_result"
    }
   ],
   "source": [
    "np.empty((3,4))"
   ]
  },
  {
   "cell_type": "code",
   "execution_count": 21,
   "id": "d1811c0b",
   "metadata": {},
   "outputs": [
    {
     "data": {
      "text/plain": [
       "array([[[ 0.00000000e+000,  1.58101007e-322,  6.95325819e-310,\n",
       "          4.94065646e-323,  5.43472210e-323, -6.51477233e+303],\n",
       "        [             nan,              nan,  4.77772647e-299,\n",
       "         -1.64460807e+284,  1.25252397e-311,  6.95325838e-310],\n",
       "        [ 4.13661320e-280,  1.25252317e-311,  1.25252372e-311,\n",
       "         -6.00036595e-210,  1.25252397e-311,  1.25252396e-311],\n",
       "        [-5.81689430e+162,  1.25250838e-311,  6.95325838e-310,\n",
       "         -6.31689286e+174,  1.25249015e-311,  6.95325837e-310]],\n",
       "\n",
       "       [[ 6.35755729e+050,  1.25252397e-311,  6.95325838e-310,\n",
       "         -2.54509738e-240,  1.25252397e-311,  1.25248886e-311],\n",
       "        [-1.99444359e-227,  1.25252397e-311,  1.25248886e-311,\n",
       "         -6.13252563e-197,  1.25249386e-311,  1.25248909e-311],\n",
       "        [-5.97827990e+140,  1.25249191e-311,  6.95325837e-310,\n",
       "          3.81224181e-117,  1.25251088e-311,  6.95325837e-310],\n",
       "        [ 0.00000000e+000,  0.00000000e+000,  0.00000000e+000,\n",
       "          0.00000000e+000,  0.00000000e+000,  0.00000000e+000]],\n",
       "\n",
       "       [[ 0.00000000e+000,  0.00000000e+000,  0.00000000e+000,\n",
       "          0.00000000e+000,  0.00000000e+000,  0.00000000e+000],\n",
       "        [ 0.00000000e+000,  0.00000000e+000,  0.00000000e+000,\n",
       "          0.00000000e+000,  0.00000000e+000,  0.00000000e+000],\n",
       "        [ 0.00000000e+000,  0.00000000e+000,  0.00000000e+000,\n",
       "          0.00000000e+000,  0.00000000e+000,  0.00000000e+000],\n",
       "        [ 0.00000000e+000,  0.00000000e+000,  0.00000000e+000,\n",
       "          0.00000000e+000,  0.00000000e+000,  0.00000000e+000]]])"
      ]
     },
     "execution_count": 21,
     "metadata": {},
     "output_type": "execute_result"
    }
   ],
   "source": [
    "np.empty((3,4,6))"
   ]
  },
  {
   "cell_type": "code",
   "execution_count": 22,
   "id": "4c86b4ac",
   "metadata": {},
   "outputs": [
    {
     "data": {
      "text/plain": [
       "array([2.        , 2.08163265, 2.16326531, 2.24489796, 2.32653061,\n",
       "       2.40816327, 2.48979592, 2.57142857, 2.65306122, 2.73469388,\n",
       "       2.81632653, 2.89795918, 2.97959184, 3.06122449, 3.14285714,\n",
       "       3.2244898 , 3.30612245, 3.3877551 , 3.46938776, 3.55102041,\n",
       "       3.63265306, 3.71428571, 3.79591837, 3.87755102, 3.95918367,\n",
       "       4.04081633, 4.12244898, 4.20408163, 4.28571429, 4.36734694,\n",
       "       4.44897959, 4.53061224, 4.6122449 , 4.69387755, 4.7755102 ,\n",
       "       4.85714286, 4.93877551, 5.02040816, 5.10204082, 5.18367347,\n",
       "       5.26530612, 5.34693878, 5.42857143, 5.51020408, 5.59183673,\n",
       "       5.67346939, 5.75510204, 5.83673469, 5.91836735, 6.        ])"
      ]
     },
     "execution_count": 22,
     "metadata": {},
     "output_type": "execute_result"
    }
   ],
   "source": [
    "np.linspace(2,6)"
   ]
  },
  {
   "cell_type": "code",
   "execution_count": 23,
   "id": "500b5182",
   "metadata": {},
   "outputs": [
    {
     "data": {
      "text/plain": [
       "array([2.        , 2.04040404, 2.08080808, 2.12121212, 2.16161616,\n",
       "       2.2020202 , 2.24242424, 2.28282828, 2.32323232, 2.36363636,\n",
       "       2.4040404 , 2.44444444, 2.48484848, 2.52525253, 2.56565657,\n",
       "       2.60606061, 2.64646465, 2.68686869, 2.72727273, 2.76767677,\n",
       "       2.80808081, 2.84848485, 2.88888889, 2.92929293, 2.96969697,\n",
       "       3.01010101, 3.05050505, 3.09090909, 3.13131313, 3.17171717,\n",
       "       3.21212121, 3.25252525, 3.29292929, 3.33333333, 3.37373737,\n",
       "       3.41414141, 3.45454545, 3.49494949, 3.53535354, 3.57575758,\n",
       "       3.61616162, 3.65656566, 3.6969697 , 3.73737374, 3.77777778,\n",
       "       3.81818182, 3.85858586, 3.8989899 , 3.93939394, 3.97979798,\n",
       "       4.02020202, 4.06060606, 4.1010101 , 4.14141414, 4.18181818,\n",
       "       4.22222222, 4.26262626, 4.3030303 , 4.34343434, 4.38383838,\n",
       "       4.42424242, 4.46464646, 4.50505051, 4.54545455, 4.58585859,\n",
       "       4.62626263, 4.66666667, 4.70707071, 4.74747475, 4.78787879,\n",
       "       4.82828283, 4.86868687, 4.90909091, 4.94949495, 4.98989899,\n",
       "       5.03030303, 5.07070707, 5.11111111, 5.15151515, 5.19191919,\n",
       "       5.23232323, 5.27272727, 5.31313131, 5.35353535, 5.39393939,\n",
       "       5.43434343, 5.47474747, 5.51515152, 5.55555556, 5.5959596 ,\n",
       "       5.63636364, 5.67676768, 5.71717172, 5.75757576, 5.7979798 ,\n",
       "       5.83838384, 5.87878788, 5.91919192, 5.95959596, 6.        ])"
      ]
     },
     "execution_count": 23,
     "metadata": {},
     "output_type": "execute_result"
    }
   ],
   "source": [
    "np.linspace(2,6,100)"
   ]
  },
  {
   "cell_type": "code",
   "execution_count": 33,
   "id": "bdc8ef85",
   "metadata": {},
   "outputs": [
    {
     "data": {
      "text/plain": [
       "array([[2.        , 2.04040404],\n",
       "       [2.08080808, 2.12121212],\n",
       "       [2.16161616, 2.2020202 ],\n",
       "       [2.24242424, 2.28282828],\n",
       "       [2.32323232, 2.36363636],\n",
       "       [2.4040404 , 2.44444444],\n",
       "       [2.48484848, 2.52525253],\n",
       "       [2.56565657, 2.60606061],\n",
       "       [2.64646465, 2.68686869],\n",
       "       [2.72727273, 2.76767677],\n",
       "       [2.80808081, 2.84848485],\n",
       "       [2.88888889, 2.92929293],\n",
       "       [2.96969697, 3.01010101],\n",
       "       [3.05050505, 3.09090909],\n",
       "       [3.13131313, 3.17171717],\n",
       "       [3.21212121, 3.25252525],\n",
       "       [3.29292929, 3.33333333],\n",
       "       [3.37373737, 3.41414141],\n",
       "       [3.45454545, 3.49494949],\n",
       "       [3.53535354, 3.57575758],\n",
       "       [3.61616162, 3.65656566],\n",
       "       [3.6969697 , 3.73737374],\n",
       "       [3.77777778, 3.81818182],\n",
       "       [3.85858586, 3.8989899 ],\n",
       "       [3.93939394, 3.97979798],\n",
       "       [4.02020202, 4.06060606],\n",
       "       [4.1010101 , 4.14141414],\n",
       "       [4.18181818, 4.22222222],\n",
       "       [4.26262626, 4.3030303 ],\n",
       "       [4.34343434, 4.38383838],\n",
       "       [4.42424242, 4.46464646],\n",
       "       [4.50505051, 4.54545455],\n",
       "       [4.58585859, 4.62626263],\n",
       "       [4.66666667, 4.70707071],\n",
       "       [4.74747475, 4.78787879],\n",
       "       [4.82828283, 4.86868687],\n",
       "       [4.90909091, 4.94949495],\n",
       "       [4.98989899, 5.03030303],\n",
       "       [5.07070707, 5.11111111],\n",
       "       [5.15151515, 5.19191919],\n",
       "       [5.23232323, 5.27272727],\n",
       "       [5.31313131, 5.35353535],\n",
       "       [5.39393939, 5.43434343],\n",
       "       [5.47474747, 5.51515152],\n",
       "       [5.55555556, 5.5959596 ],\n",
       "       [5.63636364, 5.67676768],\n",
       "       [5.71717172, 5.75757576],\n",
       "       [5.7979798 , 5.83838384],\n",
       "       [5.87878788, 5.91919192],\n",
       "       [5.95959596, 6.        ]])"
      ]
     },
     "execution_count": 33,
     "metadata": {},
     "output_type": "execute_result"
    }
   ],
   "source": [
    "np.linspace(2,6,100).reshape(50,2)"
   ]
  },
  {
   "cell_type": "code",
   "execution_count": 34,
   "id": "970f1cef",
   "metadata": {},
   "outputs": [
    {
     "data": {
      "text/plain": [
       "array([[2.  , 2.04],\n",
       "       [2.08, 2.12],\n",
       "       [2.16, 2.2 ],\n",
       "       [2.24, 2.28],\n",
       "       [2.32, 2.36],\n",
       "       [2.4 , 2.44],\n",
       "       [2.48, 2.52],\n",
       "       [2.56, 2.6 ],\n",
       "       [2.64, 2.68],\n",
       "       [2.72, 2.76],\n",
       "       [2.8 , 2.84],\n",
       "       [2.88, 2.92],\n",
       "       [2.96, 3.  ],\n",
       "       [3.04, 3.08],\n",
       "       [3.12, 3.16],\n",
       "       [3.2 , 3.24],\n",
       "       [3.28, 3.32],\n",
       "       [3.36, 3.4 ],\n",
       "       [3.44, 3.48],\n",
       "       [3.52, 3.56],\n",
       "       [3.6 , 3.64],\n",
       "       [3.68, 3.72],\n",
       "       [3.76, 3.8 ],\n",
       "       [3.84, 3.88],\n",
       "       [3.92, 3.96],\n",
       "       [4.  , 4.04],\n",
       "       [4.08, 4.12],\n",
       "       [4.16, 4.2 ],\n",
       "       [4.24, 4.28],\n",
       "       [4.32, 4.36],\n",
       "       [4.4 , 4.44],\n",
       "       [4.48, 4.52],\n",
       "       [4.56, 4.6 ],\n",
       "       [4.64, 4.68],\n",
       "       [4.72, 4.76],\n",
       "       [4.8 , 4.84],\n",
       "       [4.88, 4.92],\n",
       "       [4.96, 5.  ],\n",
       "       [5.04, 5.08],\n",
       "       [5.12, 5.16],\n",
       "       [5.2 , 5.24],\n",
       "       [5.28, 5.32],\n",
       "       [5.36, 5.4 ],\n",
       "       [5.44, 5.48],\n",
       "       [5.52, 5.56],\n",
       "       [5.6 , 5.64],\n",
       "       [5.68, 5.72],\n",
       "       [5.76, 5.8 ],\n",
       "       [5.84, 5.88],\n",
       "       [5.92, 5.96]])"
      ]
     },
     "execution_count": 34,
     "metadata": {},
     "output_type": "execute_result"
    }
   ],
   "source": [
    "np.linspace(2,6,100, endpoint= False).reshape(50,2)"
   ]
  },
  {
   "cell_type": "code",
   "execution_count": null,
   "id": "1728f1ad",
   "metadata": {},
   "outputs": [],
   "source": [
    " ############## distance between two datasets and stepsize ############### "
   ]
  },
  {
   "cell_type": "code",
   "execution_count": 35,
   "id": "0a8caf5e",
   "metadata": {},
   "outputs": [
    {
     "data": {
      "text/plain": [
       "(array([2.  , 2.04, 2.08, 2.12, 2.16, 2.2 , 2.24, 2.28, 2.32, 2.36, 2.4 ,\n",
       "        2.44, 2.48, 2.52, 2.56, 2.6 , 2.64, 2.68, 2.72, 2.76, 2.8 , 2.84,\n",
       "        2.88, 2.92, 2.96, 3.  , 3.04, 3.08, 3.12, 3.16, 3.2 , 3.24, 3.28,\n",
       "        3.32, 3.36, 3.4 , 3.44, 3.48, 3.52, 3.56, 3.6 , 3.64, 3.68, 3.72,\n",
       "        3.76, 3.8 , 3.84, 3.88, 3.92, 3.96, 4.  , 4.04, 4.08, 4.12, 4.16,\n",
       "        4.2 , 4.24, 4.28, 4.32, 4.36, 4.4 , 4.44, 4.48, 4.52, 4.56, 4.6 ,\n",
       "        4.64, 4.68, 4.72, 4.76, 4.8 , 4.84, 4.88, 4.92, 4.96, 5.  , 5.04,\n",
       "        5.08, 5.12, 5.16, 5.2 , 5.24, 5.28, 5.32, 5.36, 5.4 , 5.44, 5.48,\n",
       "        5.52, 5.56, 5.6 , 5.64, 5.68, 5.72, 5.76, 5.8 , 5.84, 5.88, 5.92,\n",
       "        5.96]),\n",
       " 0.04)"
      ]
     },
     "execution_count": 35,
     "metadata": {},
     "output_type": "execute_result"
    }
   ],
   "source": [
    "np.linspace(2,6,100, endpoint= False, retstep= True)"
   ]
  },
  {
   "cell_type": "code",
   "execution_count": 36,
   "id": "2585f9eb",
   "metadata": {},
   "outputs": [
    {
     "data": {
      "text/plain": [
       "array([ 10.        ,  10.48113134,  10.98541142,  11.51395399,\n",
       "        12.06792641,  12.64855217,  13.25711366,  13.89495494,\n",
       "        14.56348478,  15.26417967,  15.9985872 ,  16.76832937,\n",
       "        17.57510625,  18.42069969,  19.30697729,  20.23589648,\n",
       "        21.20950888,  22.22996483,  23.29951811,  24.42053095,\n",
       "        25.59547923,  26.82695795,  28.11768698,  29.47051703,\n",
       "        30.88843596,  32.37457543,  33.93221772,  35.56480306,\n",
       "        37.2759372 ,  39.06939937,  40.94915062,  42.9193426 ,\n",
       "        44.98432669,  47.14866363,  49.41713361,  51.79474679,\n",
       "        54.28675439,  56.89866029,  59.63623317,  62.50551925,\n",
       "        65.51285569,  68.6648845 ,  71.9685673 ,  75.43120063,\n",
       "        79.06043211,  82.86427729,  86.85113738,  91.0298178 ,\n",
       "        95.40954763, 100.        ])"
      ]
     },
     "execution_count": 36,
     "metadata": {},
     "output_type": "execute_result"
    }
   ],
   "source": [
    "np.logspace(1,2)"
   ]
  },
  {
   "cell_type": "code",
   "execution_count": 38,
   "id": "36d4a250",
   "metadata": {},
   "outputs": [
    {
     "data": {
      "text/plain": [
       "array([ 10.        ,  21.5443469 ,  46.41588834, 100.        ])"
      ]
     },
     "execution_count": 38,
     "metadata": {},
     "output_type": "execute_result"
    }
   ],
   "source": [
    "np.logspace(1,2,4, base=10)"
   ]
  },
  {
   "cell_type": "code",
   "execution_count": 41,
   "id": "ff5c2364",
   "metadata": {},
   "outputs": [],
   "source": [
    "a=np.arange(16).reshape(4,4)"
   ]
  },
  {
   "cell_type": "code",
   "execution_count": 42,
   "id": "f327b20f",
   "metadata": {},
   "outputs": [
    {
     "data": {
      "text/plain": [
       "array([[ 0,  1,  2,  3],\n",
       "       [ 4,  5,  6,  7],\n",
       "       [ 8,  9, 10, 11],\n",
       "       [12, 13, 14, 15]])"
      ]
     },
     "execution_count": 42,
     "metadata": {},
     "output_type": "execute_result"
    }
   ],
   "source": [
    "a"
   ]
  },
  {
   "cell_type": "code",
   "execution_count": 44,
   "id": "c1d5ede9",
   "metadata": {},
   "outputs": [],
   "source": [
    "a=np.arange(32).reshape(4,4,2)"
   ]
  },
  {
   "cell_type": "code",
   "execution_count": 45,
   "id": "0e8740a3",
   "metadata": {},
   "outputs": [
    {
     "data": {
      "text/plain": [
       "array([[[ 0,  1],\n",
       "        [ 2,  3],\n",
       "        [ 4,  5],\n",
       "        [ 6,  7]],\n",
       "\n",
       "       [[ 8,  9],\n",
       "        [10, 11],\n",
       "        [12, 13],\n",
       "        [14, 15]],\n",
       "\n",
       "       [[16, 17],\n",
       "        [18, 19],\n",
       "        [20, 21],\n",
       "        [22, 23]],\n",
       "\n",
       "       [[24, 25],\n",
       "        [26, 27],\n",
       "        [28, 29],\n",
       "        [30, 31]]])"
      ]
     },
     "execution_count": 45,
     "metadata": {},
     "output_type": "execute_result"
    }
   ],
   "source": [
    "a"
   ]
  },
  {
   "cell_type": "code",
   "execution_count": 46,
   "id": "c34cc749",
   "metadata": {},
   "outputs": [
    {
     "data": {
      "text/plain": [
       "31"
      ]
     },
     "execution_count": 46,
     "metadata": {},
     "output_type": "execute_result"
    }
   ],
   "source": [
    "a.max()"
   ]
  },
  {
   "cell_type": "code",
   "execution_count": 47,
   "id": "eb452db2",
   "metadata": {},
   "outputs": [
    {
     "data": {
      "text/plain": [
       "array([[ 6,  7],\n",
       "       [14, 15],\n",
       "       [22, 23],\n",
       "       [30, 31]])"
      ]
     },
     "execution_count": 47,
     "metadata": {},
     "output_type": "execute_result"
    }
   ],
   "source": [
    "a.max(axis=1)"
   ]
  },
  {
   "cell_type": "code",
   "execution_count": 48,
   "id": "dbf769d0",
   "metadata": {},
   "outputs": [
    {
     "data": {
      "text/plain": [
       "array([[[10, 11],\n",
       "        [12, 13],\n",
       "        [14, 15],\n",
       "        [16, 17]],\n",
       "\n",
       "       [[18, 19],\n",
       "        [20, 21],\n",
       "        [22, 23],\n",
       "        [24, 25]],\n",
       "\n",
       "       [[26, 27],\n",
       "        [28, 29],\n",
       "        [30, 31],\n",
       "        [32, 33]],\n",
       "\n",
       "       [[34, 35],\n",
       "        [36, 37],\n",
       "        [38, 39],\n",
       "        [40, 41]]])"
      ]
     },
     "execution_count": 48,
     "metadata": {},
     "output_type": "execute_result"
    }
   ],
   "source": [
    "10 + a"
   ]
  },
  {
   "cell_type": "code",
   "execution_count": 49,
   "id": "0f340921",
   "metadata": {},
   "outputs": [
    {
     "data": {
      "text/plain": [
       "array([[[ 0,  1],\n",
       "        [ 2,  3],\n",
       "        [ 4,  5],\n",
       "        [ 6,  7]],\n",
       "\n",
       "       [[ 8,  9],\n",
       "        [10, 11],\n",
       "        [12, 13],\n",
       "        [14, 15]],\n",
       "\n",
       "       [[16, 17],\n",
       "        [18, 19],\n",
       "        [20, 21],\n",
       "        [22, 23]],\n",
       "\n",
       "       [[24, 25],\n",
       "        [26, 27],\n",
       "        [28, 29],\n",
       "        [30, 31]]])"
      ]
     },
     "execution_count": 49,
     "metadata": {},
     "output_type": "execute_result"
    }
   ],
   "source": [
    "a"
   ]
  },
  {
   "cell_type": "code",
   "execution_count": 50,
   "id": "ab919986",
   "metadata": {},
   "outputs": [
    {
     "name": "stderr",
     "output_type": "stream",
     "text": [
      "<ipython-input-50-deacdc4ccabc>:1: RuntimeWarning: divide by zero encountered in true_divide\n",
      "  a/0\n",
      "<ipython-input-50-deacdc4ccabc>:1: RuntimeWarning: invalid value encountered in true_divide\n",
      "  a/0\n"
     ]
    },
    {
     "data": {
      "text/plain": [
       "array([[[nan, inf],\n",
       "        [inf, inf],\n",
       "        [inf, inf],\n",
       "        [inf, inf]],\n",
       "\n",
       "       [[inf, inf],\n",
       "        [inf, inf],\n",
       "        [inf, inf],\n",
       "        [inf, inf]],\n",
       "\n",
       "       [[inf, inf],\n",
       "        [inf, inf],\n",
       "        [inf, inf],\n",
       "        [inf, inf]],\n",
       "\n",
       "       [[inf, inf],\n",
       "        [inf, inf],\n",
       "        [inf, inf],\n",
       "        [inf, inf]]])"
      ]
     },
     "execution_count": 50,
     "metadata": {},
     "output_type": "execute_result"
    }
   ],
   "source": [
    "a/0"
   ]
  },
  {
   "cell_type": "code",
   "execution_count": 79,
   "id": "11621872",
   "metadata": {},
   "outputs": [],
   "source": [
    "b = np.arange(1,26).reshape(5,5)"
   ]
  },
  {
   "cell_type": "code",
   "execution_count": 80,
   "id": "3cc4addc",
   "metadata": {},
   "outputs": [
    {
     "data": {
      "text/plain": [
       "array([[ 1,  2,  3,  4,  5],\n",
       "       [ 6,  7,  8,  9, 10],\n",
       "       [11, 12, 13, 14, 15],\n",
       "       [16, 17, 18, 19, 20],\n",
       "       [21, 22, 23, 24, 25]])"
      ]
     },
     "execution_count": 80,
     "metadata": {},
     "output_type": "execute_result"
    }
   ],
   "source": [
    "b"
   ]
  },
  {
   "cell_type": "code",
   "execution_count": 81,
   "id": "571e9436",
   "metadata": {},
   "outputs": [],
   "source": [
    "b = np.array(b)"
   ]
  },
  {
   "cell_type": "code",
   "execution_count": 82,
   "id": "f0aeaf2a",
   "metadata": {},
   "outputs": [
    {
     "data": {
      "text/plain": [
       "array([[ 1,  2,  3,  4,  5],\n",
       "       [ 6,  7,  8,  9, 10],\n",
       "       [11, 12, 13, 14, 15],\n",
       "       [16, 17, 18, 19, 20],\n",
       "       [21, 22, 23, 24, 25]])"
      ]
     },
     "execution_count": 82,
     "metadata": {},
     "output_type": "execute_result"
    }
   ],
   "source": [
    "b"
   ]
  },
  {
   "cell_type": "code",
   "execution_count": 83,
   "id": "4c12eee6",
   "metadata": {},
   "outputs": [],
   "source": [
    "c= b+10"
   ]
  },
  {
   "cell_type": "code",
   "execution_count": 84,
   "id": "e8e511d0",
   "metadata": {},
   "outputs": [
    {
     "data": {
      "text/plain": [
       "array([[11, 12, 13, 14, 15],\n",
       "       [16, 17, 18, 19, 20],\n",
       "       [21, 22, 23, 24, 25],\n",
       "       [26, 27, 28, 29, 30],\n",
       "       [31, 32, 33, 34, 35]])"
      ]
     },
     "execution_count": 84,
     "metadata": {},
     "output_type": "execute_result"
    }
   ],
   "source": [
    "c"
   ]
  },
  {
   "cell_type": "code",
   "execution_count": 85,
   "id": "4d77c4b3",
   "metadata": {},
   "outputs": [],
   "source": [
    "d= b +5"
   ]
  },
  {
   "cell_type": "code",
   "execution_count": 86,
   "id": "dc751d33",
   "metadata": {},
   "outputs": [
    {
     "data": {
      "text/plain": [
       "array([[ 6,  7,  8,  9, 10],\n",
       "       [11, 12, 13, 14, 15],\n",
       "       [16, 17, 18, 19, 20],\n",
       "       [21, 22, 23, 24, 25],\n",
       "       [26, 27, 28, 29, 30]])"
      ]
     },
     "execution_count": 86,
     "metadata": {},
     "output_type": "execute_result"
    }
   ],
   "source": [
    "d"
   ]
  },
  {
   "cell_type": "code",
   "execution_count": 87,
   "id": "99d1d915",
   "metadata": {},
   "outputs": [
    {
     "data": {
      "text/plain": [
       "array([[17, 19, 21, 23, 25],\n",
       "       [27, 29, 31, 33, 35],\n",
       "       [37, 39, 41, 43, 45],\n",
       "       [47, 49, 51, 53, 55],\n",
       "       [57, 59, 61, 63, 65]])"
      ]
     },
     "execution_count": 87,
     "metadata": {},
     "output_type": "execute_result"
    }
   ],
   "source": [
    "c+d"
   ]
  },
  {
   "cell_type": "code",
   "execution_count": 88,
   "id": "279cb8e9",
   "metadata": {},
   "outputs": [],
   "source": [
    "e = [4,4,4,4,4]"
   ]
  },
  {
   "cell_type": "code",
   "execution_count": 89,
   "id": "8dcb86ee",
   "metadata": {},
   "outputs": [
    {
     "data": {
      "text/plain": [
       "array([[15, 16, 17, 18, 19],\n",
       "       [20, 21, 22, 23, 24],\n",
       "       [25, 26, 27, 28, 29],\n",
       "       [30, 31, 32, 33, 34],\n",
       "       [35, 36, 37, 38, 39]])"
      ]
     },
     "execution_count": 89,
     "metadata": {},
     "output_type": "execute_result"
    }
   ],
   "source": [
    "c+e"
   ]
  },
  {
   "cell_type": "code",
   "execution_count": 91,
   "id": "c55b10f4",
   "metadata": {},
   "outputs": [
    {
     "data": {
      "text/plain": [
       "array([[4],\n",
       "       [4],\n",
       "       [4],\n",
       "       [4],\n",
       "       [4]])"
      ]
     },
     "execution_count": 91,
     "metadata": {},
     "output_type": "execute_result"
    }
   ],
   "source": [
    "e = np.reshape(e , (5,1))\n",
    "e"
   ]
  },
  {
   "cell_type": "code",
   "execution_count": 92,
   "id": "5791d908",
   "metadata": {},
   "outputs": [
    {
     "data": {
      "text/plain": [
       "array([[15, 16, 17, 18, 19],\n",
       "       [20, 21, 22, 23, 24],\n",
       "       [25, 26, 27, 28, 29],\n",
       "       [30, 31, 32, 33, 34],\n",
       "       [35, 36, 37, 38, 39]])"
      ]
     },
     "execution_count": 92,
     "metadata": {},
     "output_type": "execute_result"
    }
   ],
   "source": [
    "c+e"
   ]
  },
  {
   "cell_type": "code",
   "execution_count": 93,
   "id": "d2162a6f",
   "metadata": {},
   "outputs": [],
   "source": [
    "x = np.array([1,2,3])"
   ]
  },
  {
   "cell_type": "code",
   "execution_count": 94,
   "id": "8f8c0203",
   "metadata": {},
   "outputs": [
    {
     "data": {
      "text/plain": [
       "array([1, 2, 3])"
      ]
     },
     "execution_count": 94,
     "metadata": {},
     "output_type": "execute_result"
    }
   ],
   "source": [
    "x"
   ]
  },
  {
   "cell_type": "code",
   "execution_count": 95,
   "id": "9c88d61e",
   "metadata": {},
   "outputs": [],
   "source": [
    "y=x###############################3 SWALLOW COPY##############3 DATA NOT PERMANENTLY COPIED TO A NEW LOCATION#########"
   ]
  },
  {
   "cell_type": "code",
   "execution_count": 96,
   "id": "e5946a7a",
   "metadata": {},
   "outputs": [
    {
     "data": {
      "text/plain": [
       "array([1, 2, 3])"
      ]
     },
     "execution_count": 96,
     "metadata": {},
     "output_type": "execute_result"
    }
   ],
   "source": [
    "y"
   ]
  },
  {
   "cell_type": "code",
   "execution_count": 97,
   "id": "658faf06",
   "metadata": {},
   "outputs": [],
   "source": [
    "z= np.copy(x) ####################################### DEEP COPY ##########################DATA PERMANENTLY TO NEW LOCATION"
   ]
  },
  {
   "cell_type": "code",
   "execution_count": 98,
   "id": "778f776d",
   "metadata": {},
   "outputs": [
    {
     "data": {
      "text/plain": [
       "array([1, 2, 3])"
      ]
     },
     "execution_count": 98,
     "metadata": {},
     "output_type": "execute_result"
    }
   ],
   "source": [
    "z"
   ]
  },
  {
   "cell_type": "code",
   "execution_count": 99,
   "id": "b4181e42",
   "metadata": {},
   "outputs": [],
   "source": [
    "x[0]=100"
   ]
  },
  {
   "cell_type": "code",
   "execution_count": 100,
   "id": "881ea80b",
   "metadata": {},
   "outputs": [
    {
     "data": {
      "text/plain": [
       "array([100,   2,   3])"
      ]
     },
     "execution_count": 100,
     "metadata": {},
     "output_type": "execute_result"
    }
   ],
   "source": [
    "x"
   ]
  },
  {
   "cell_type": "code",
   "execution_count": 101,
   "id": "a30c5285",
   "metadata": {},
   "outputs": [
    {
     "data": {
      "text/plain": [
       "array([100,   2,   3])"
      ]
     },
     "execution_count": 101,
     "metadata": {},
     "output_type": "execute_result"
    }
   ],
   "source": [
    "y"
   ]
  },
  {
   "cell_type": "code",
   "execution_count": 102,
   "id": "c6f26250",
   "metadata": {},
   "outputs": [
    {
     "data": {
      "text/plain": [
       "array([1, 2, 3])"
      ]
     },
     "execution_count": 102,
     "metadata": {},
     "output_type": "execute_result"
    }
   ],
   "source": [
    "z"
   ]
  },
  {
   "cell_type": "code",
   "execution_count": null,
   "id": "6d804347",
   "metadata": {},
   "outputs": [],
   "source": [
    "############################################## ID FUNCTION ################################################\n",
    "# retrun the identity of an object\n",
    "#"
   ]
  },
  {
   "cell_type": "code",
   "execution_count": 103,
   "id": "387ff374",
   "metadata": {},
   "outputs": [
    {
     "data": {
      "text/plain": [
       "2535191215536"
      ]
     },
     "execution_count": 103,
     "metadata": {},
     "output_type": "execute_result"
    }
   ],
   "source": [
    "id(x)"
   ]
  },
  {
   "cell_type": "code",
   "execution_count": 104,
   "id": "6c6c5744",
   "metadata": {},
   "outputs": [
    {
     "data": {
      "text/plain": [
       "2535191215536"
      ]
     },
     "execution_count": 104,
     "metadata": {},
     "output_type": "execute_result"
    }
   ],
   "source": [
    "id(y)"
   ]
  },
  {
   "cell_type": "code",
   "execution_count": 105,
   "id": "cc7eaba5",
   "metadata": {},
   "outputs": [
    {
     "data": {
      "text/plain": [
       "2535185662768"
      ]
     },
     "execution_count": 105,
     "metadata": {},
     "output_type": "execute_result"
    }
   ],
   "source": [
    "id(z)"
   ]
  },
  {
   "cell_type": "code",
   "execution_count": 106,
   "id": "f8fed665",
   "metadata": {},
   "outputs": [
    {
     "data": {
      "text/plain": [
       "2535189442224"
      ]
     },
     "execution_count": 106,
     "metadata": {},
     "output_type": "execute_result"
    }
   ],
   "source": [
    "id(x[0])"
   ]
  },
  {
   "cell_type": "code",
   "execution_count": 107,
   "id": "1055916f",
   "metadata": {},
   "outputs": [
    {
     "data": {
      "text/plain": [
       "2535189441744"
      ]
     },
     "execution_count": 107,
     "metadata": {},
     "output_type": "execute_result"
    }
   ],
   "source": [
    "id(y[0])"
   ]
  },
  {
   "cell_type": "code",
   "execution_count": 108,
   "id": "d7488377",
   "metadata": {},
   "outputs": [
    {
     "data": {
      "text/plain": [
       "2535189442288"
      ]
     },
     "execution_count": 108,
     "metadata": {},
     "output_type": "execute_result"
    }
   ],
   "source": [
    "id(z[0])"
   ]
  },
  {
   "cell_type": "code",
   "execution_count": 109,
   "id": "1bf080a0",
   "metadata": {},
   "outputs": [],
   "source": [
    "ad = np.array([45,68])"
   ]
  },
  {
   "cell_type": "code",
   "execution_count": 110,
   "id": "e75f2c22",
   "metadata": {},
   "outputs": [],
   "source": [
    "bd = ad"
   ]
  },
  {
   "cell_type": "code",
   "execution_count": 111,
   "id": "b3b0a204",
   "metadata": {},
   "outputs": [
    {
     "data": {
      "text/plain": [
       "2535183996176"
      ]
     },
     "execution_count": 111,
     "metadata": {},
     "output_type": "execute_result"
    }
   ],
   "source": [
    "id(bd)"
   ]
  },
  {
   "cell_type": "code",
   "execution_count": 112,
   "id": "7138139d",
   "metadata": {},
   "outputs": [
    {
     "data": {
      "text/plain": [
       "2535183996176"
      ]
     },
     "execution_count": 112,
     "metadata": {},
     "output_type": "execute_result"
    }
   ],
   "source": [
    "id(ad)"
   ]
  },
  {
   "cell_type": "code",
   "execution_count": 113,
   "id": "866bbea3",
   "metadata": {},
   "outputs": [
    {
     "data": {
      "text/plain": [
       "2535199687632"
      ]
     },
     "execution_count": 113,
     "metadata": {},
     "output_type": "execute_result"
    }
   ],
   "source": [
    "id(ad[0])"
   ]
  },
  {
   "cell_type": "code",
   "execution_count": 114,
   "id": "5ea39918",
   "metadata": {},
   "outputs": [
    {
     "data": {
      "text/plain": [
       "2535199688176"
      ]
     },
     "execution_count": 114,
     "metadata": {},
     "output_type": "execute_result"
    }
   ],
   "source": [
    "id(bd[0])"
   ]
  },
  {
   "cell_type": "code",
   "execution_count": 115,
   "id": "b1496682",
   "metadata": {},
   "outputs": [
    {
     "data": {
      "text/plain": [
       "2535199687664"
      ]
     },
     "execution_count": 115,
     "metadata": {},
     "output_type": "execute_result"
    }
   ],
   "source": [
    "id(ad[1])"
   ]
  },
  {
   "cell_type": "code",
   "execution_count": 117,
   "id": "b205168c",
   "metadata": {},
   "outputs": [
    {
     "data": {
      "text/plain": [
       "2535199689072"
      ]
     },
     "execution_count": 117,
     "metadata": {},
     "output_type": "execute_result"
    }
   ],
   "source": [
    "id(bd[1])"
   ]
  },
  {
   "cell_type": "code",
   "execution_count": 120,
   "id": "d8c3f2cb",
   "metadata": {},
   "outputs": [
    {
     "data": {
      "text/plain": [
       "True"
      ]
     },
     "execution_count": 120,
     "metadata": {},
     "output_type": "execute_result"
    }
   ],
   "source": [
    "id(ad[0]) == id(bd[0])"
   ]
  },
  {
   "cell_type": "code",
   "execution_count": 121,
   "id": "df63fd2d",
   "metadata": {},
   "outputs": [
    {
     "data": {
      "text/plain": [
       "True"
      ]
     },
     "execution_count": 121,
     "metadata": {},
     "output_type": "execute_result"
    }
   ],
   "source": [
    "id(ad[0]) == id(bd[1])"
   ]
  },
  {
   "cell_type": "code",
   "execution_count": 124,
   "id": "040b5ddb",
   "metadata": {},
   "outputs": [
    {
     "data": {
      "text/plain": [
       "True"
      ]
     },
     "execution_count": 124,
     "metadata": {},
     "output_type": "execute_result"
    }
   ],
   "source": [
    "id(ad) == id(bd)"
   ]
  },
  {
   "cell_type": "code",
   "execution_count": 125,
   "id": "3ac88481",
   "metadata": {},
   "outputs": [],
   "source": [
    "xt = np.array([34,56,96])"
   ]
  },
  {
   "cell_type": "code",
   "execution_count": 126,
   "id": "febadda1",
   "metadata": {},
   "outputs": [
    {
     "data": {
      "text/plain": [
       "True"
      ]
     },
     "execution_count": 126,
     "metadata": {},
     "output_type": "execute_result"
    }
   ],
   "source": [
    "id(xt[0]) == id(ad[1])"
   ]
  },
  {
   "cell_type": "code",
   "execution_count": null,
   "id": "f5a3b6ba",
   "metadata": {},
   "outputs": [],
   "source": []
  }
 ],
 "metadata": {
  "kernelspec": {
   "display_name": "Python 3",
   "language": "python",
   "name": "python3"
  },
  "language_info": {
   "codemirror_mode": {
    "name": "ipython",
    "version": 3
   },
   "file_extension": ".py",
   "mimetype": "text/x-python",
   "name": "python",
   "nbconvert_exporter": "python",
   "pygments_lexer": "ipython3",
   "version": "3.8.8"
  }
 },
 "nbformat": 4,
 "nbformat_minor": 5
}
